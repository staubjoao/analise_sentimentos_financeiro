{
 "cells": [
  {
   "cell_type": "code",
   "execution_count": 123,
   "metadata": {},
   "outputs": [],
   "source": [
    "import yfinance as yf\n",
    "import pandas as pd"
   ]
  },
  {
   "cell_type": "code",
   "execution_count": 124,
   "metadata": {},
   "outputs": [],
   "source": [
    "empresas = ['AMER3', 'MGLU3', 'PETR4']"
   ]
  },
  {
   "cell_type": "code",
   "execution_count": 125,
   "metadata": {},
   "outputs": [],
   "source": [
    "def getCsv(empresa):\n",
    "    dados = pd.read_csv(empresa + '.csv', index_col='Unnamed: 0', parse_dates=[['data', 'hora']], dayfirst=True)\n",
    "    # dados.data = pd.to_datetime(dados.data, dayfirst=True)\n",
    "    return dados"
   ]
  },
  {
   "cell_type": "code",
   "execution_count": 127,
   "metadata": {},
   "outputs": [
    {
     "data": {
      "text/html": [
       "<div>\n",
       "<style scoped>\n",
       "    .dataframe tbody tr th:only-of-type {\n",
       "        vertical-align: middle;\n",
       "    }\n",
       "\n",
       "    .dataframe tbody tr th {\n",
       "        vertical-align: top;\n",
       "    }\n",
       "\n",
       "    .dataframe thead th {\n",
       "        text-align: right;\n",
       "    }\n",
       "</style>\n",
       "<table border=\"1\" class=\"dataframe\">\n",
       "  <thead>\n",
       "    <tr style=\"text-align: right;\">\n",
       "      <th></th>\n",
       "      <th>data_hora</th>\n",
       "      <th>titulo</th>\n",
       "      <th>texto</th>\n",
       "    </tr>\n",
       "  </thead>\n",
       "  <tbody>\n",
       "    <tr>\n",
       "      <th>0</th>\n",
       "      <td>2023-09-18 22:21:00</td>\n",
       "      <td>Americanas rebate acusações do Bradesco em nov...</td>\n",
       "      <td>['A Americanas (BVMF:AMER3) protocolou nesta 2...</td>\n",
       "    </tr>\n",
       "    <tr>\n",
       "      <th>1</th>\n",
       "      <td>2023-09-18 07:59:00</td>\n",
       "      <td>CPIs do Congresso Nacional entram em reta fina...</td>\n",
       "      <td>['As CPIs (Comissões Parlamentares de Inquérit...</td>\n",
       "    </tr>\n",
       "    <tr>\n",
       "      <th>2</th>\n",
       "      <td>2023-09-18 10:30:00</td>\n",
       "      <td>Ações: Braskem, IRB e Azul lideram altas do Ib...</td>\n",
       "      <td>['Investing.com — O Ibovespa subia 0,18% às 10...</td>\n",
       "    </tr>\n",
       "    <tr>\n",
       "      <th>3</th>\n",
       "      <td>2023-09-14 09:21:00</td>\n",
       "      <td>Abertura de mercado: o que esperar do Ibovespa...</td>\n",
       "      <td>['Investing.com – Os mercados aguardam novos d...</td>\n",
       "    </tr>\n",
       "    <tr>\n",
       "      <th>4</th>\n",
       "      <td>2023-09-13 16:23:00</td>\n",
       "      <td>Bradesco afirma ter total interesse no sucesso...</td>\n",
       "      <td>['O Bradesco (BVMF:BBDC4) informou nesta quart...</td>\n",
       "    </tr>\n",
       "  </tbody>\n",
       "</table>\n",
       "</div>"
      ],
      "text/plain": [
       "            data_hora                                             titulo  \\\n",
       "0 2023-09-18 22:21:00  Americanas rebate acusações do Bradesco em nov...   \n",
       "1 2023-09-18 07:59:00  CPIs do Congresso Nacional entram em reta fina...   \n",
       "2 2023-09-18 10:30:00  Ações: Braskem, IRB e Azul lideram altas do Ib...   \n",
       "3 2023-09-14 09:21:00  Abertura de mercado: o que esperar do Ibovespa...   \n",
       "4 2023-09-13 16:23:00  Bradesco afirma ter total interesse no sucesso...   \n",
       "\n",
       "                                               texto  \n",
       "0  ['A Americanas (BVMF:AMER3) protocolou nesta 2...  \n",
       "1  ['As CPIs (Comissões Parlamentares de Inquérit...  \n",
       "2  ['Investing.com — O Ibovespa subia 0,18% às 10...  \n",
       "3  ['Investing.com – Os mercados aguardam novos d...  \n",
       "4  ['O Bradesco (BVMF:BBDC4) informou nesta quart...  "
      ]
     },
     "execution_count": 127,
     "metadata": {},
     "output_type": "execute_result"
    }
   ],
   "source": [
    "amercsv = getCsv('AMER3')\n",
    "amercsv.head()"
   ]
  },
  {
   "cell_type": "code",
   "execution_count": 128,
   "metadata": {},
   "outputs": [
    {
     "name": "stdout",
     "output_type": "stream",
     "text": [
      "<class 'pandas.core.frame.DataFrame'>\n",
      "Index: 50 entries, 0 to 49\n",
      "Data columns (total 3 columns):\n",
      " #   Column     Non-Null Count  Dtype         \n",
      "---  ------     --------------  -----         \n",
      " 0   data_hora  50 non-null     datetime64[ns]\n",
      " 1   titulo     50 non-null     object        \n",
      " 2   texto      50 non-null     object        \n",
      "dtypes: datetime64[ns](1), object(2)\n",
      "memory usage: 1.6+ KB\n"
     ]
    }
   ],
   "source": [
    "amercsv.info()"
   ]
  },
  {
   "cell_type": "code",
   "execution_count": 129,
   "metadata": {},
   "outputs": [
    {
     "data": {
      "text/plain": [
       "(Timestamp('2023-09-18 22:21:00'), Timestamp('2023-08-15 16:33:00'))"
      ]
     },
     "execution_count": 129,
     "metadata": {},
     "output_type": "execute_result"
    }
   ],
   "source": [
    "amercsv['data_hora'].max(), amercsv['data_hora'].min()"
   ]
  },
  {
   "cell_type": "code",
   "execution_count": 130,
   "metadata": {},
   "outputs": [
    {
     "data": {
      "text/html": [
       "<div>\n",
       "<style scoped>\n",
       "    .dataframe tbody tr th:only-of-type {\n",
       "        vertical-align: middle;\n",
       "    }\n",
       "\n",
       "    .dataframe tbody tr th {\n",
       "        vertical-align: top;\n",
       "    }\n",
       "\n",
       "    .dataframe thead th {\n",
       "        text-align: right;\n",
       "    }\n",
       "</style>\n",
       "<table border=\"1\" class=\"dataframe\">\n",
       "  <thead>\n",
       "    <tr style=\"text-align: right;\">\n",
       "      <th></th>\n",
       "      <th>data_hora</th>\n",
       "      <th>titulo</th>\n",
       "      <th>texto</th>\n",
       "    </tr>\n",
       "  </thead>\n",
       "  <tbody>\n",
       "    <tr>\n",
       "      <th>0</th>\n",
       "      <td>2023-09-18 18:04:00</td>\n",
       "      <td>Janja e ministras participam de encontro de mu...</td>\n",
       "      <td>['A primeira-dama Janja Lula da Silva particip...</td>\n",
       "    </tr>\n",
       "    <tr>\n",
       "      <th>1</th>\n",
       "      <td>2023-09-18 14:44:00</td>\n",
       "      <td>À espera de Copom e Fed, Ibovespa inicia seman...</td>\n",
       "      <td>['O Ibovespa perdeu força e não conseguiu sust...</td>\n",
       "    </tr>\n",
       "    <tr>\n",
       "      <th>2</th>\n",
       "      <td>2023-09-15 14:10:00</td>\n",
       "      <td>Fortuna de bilionários brasileiros equivale a ...</td>\n",
       "      <td>['O patrimônio dos 280 bilionários brasileiros...</td>\n",
       "    </tr>\n",
       "    <tr>\n",
       "      <th>3</th>\n",
       "      <td>2023-09-14 11:49:00</td>\n",
       "      <td>Ibovespa avança com exterior ajudando Vale e P...</td>\n",
       "      <td>['Por Paula Arend Laier', 'SÃO PAULO (Reuters)...</td>\n",
       "    </tr>\n",
       "    <tr>\n",
       "      <th>4</th>\n",
       "      <td>2023-09-14 10:29:00</td>\n",
       "      <td>Ações: Bradespar, CSN e Vale lideram altas do ...</td>\n",
       "      <td>['Investing.com — O Ibovespa subia 0,86% às 10...</td>\n",
       "    </tr>\n",
       "  </tbody>\n",
       "</table>\n",
       "</div>"
      ],
      "text/plain": [
       "            data_hora                                             titulo  \\\n",
       "0 2023-09-18 18:04:00  Janja e ministras participam de encontro de mu...   \n",
       "1 2023-09-18 14:44:00  À espera de Copom e Fed, Ibovespa inicia seman...   \n",
       "2 2023-09-15 14:10:00  Fortuna de bilionários brasileiros equivale a ...   \n",
       "3 2023-09-14 11:49:00  Ibovespa avança com exterior ajudando Vale e P...   \n",
       "4 2023-09-14 10:29:00  Ações: Bradespar, CSN e Vale lideram altas do ...   \n",
       "\n",
       "                                               texto  \n",
       "0  ['A primeira-dama Janja Lula da Silva particip...  \n",
       "1  ['O Ibovespa perdeu força e não conseguiu sust...  \n",
       "2  ['O patrimônio dos 280 bilionários brasileiros...  \n",
       "3  ['Por Paula Arend Laier', 'SÃO PAULO (Reuters)...  \n",
       "4  ['Investing.com — O Ibovespa subia 0,86% às 10...  "
      ]
     },
     "execution_count": 130,
     "metadata": {},
     "output_type": "execute_result"
    }
   ],
   "source": [
    "magalucsv = getCsv('MGLU3')\n",
    "magalucsv.head()"
   ]
  },
  {
   "cell_type": "code",
   "execution_count": 131,
   "metadata": {},
   "outputs": [
    {
     "data": {
      "text/plain": [
       "(Timestamp('2023-09-18 18:04:00'), Timestamp('2023-08-02 14:49:00'))"
      ]
     },
     "execution_count": 131,
     "metadata": {},
     "output_type": "execute_result"
    }
   ],
   "source": [
    "magalucsv['data_hora'].max(), magalucsv['data_hora'].min()"
   ]
  },
  {
   "cell_type": "code",
   "execution_count": 132,
   "metadata": {},
   "outputs": [
    {
     "data": {
      "text/html": [
       "<div>\n",
       "<style scoped>\n",
       "    .dataframe tbody tr th:only-of-type {\n",
       "        vertical-align: middle;\n",
       "    }\n",
       "\n",
       "    .dataframe tbody tr th {\n",
       "        vertical-align: top;\n",
       "    }\n",
       "\n",
       "    .dataframe thead th {\n",
       "        text-align: right;\n",
       "    }\n",
       "</style>\n",
       "<table border=\"1\" class=\"dataframe\">\n",
       "  <thead>\n",
       "    <tr style=\"text-align: right;\">\n",
       "      <th></th>\n",
       "      <th>data_hora</th>\n",
       "      <th>titulo</th>\n",
       "      <th>texto</th>\n",
       "    </tr>\n",
       "  </thead>\n",
       "  <tbody>\n",
       "    <tr>\n",
       "      <th>0</th>\n",
       "      <td>2023-09-19 15:34:00</td>\n",
       "      <td>Investidores estrangeiros querem entender marc...</td>\n",
       "      <td>['O ministro da Fazenda, Fernando Haddad, diss...</td>\n",
       "    </tr>\n",
       "    <tr>\n",
       "      <th>1</th>\n",
       "      <td>2023-09-19 14:37:00</td>\n",
       "      <td>Petrobras contrata sonda de perfuração da Fore...</td>\n",
       "      <td>['RIO DE JANEIRO (Reuters) - A Petrobras (BVMF...</td>\n",
       "    </tr>\n",
       "    <tr>\n",
       "      <th>2</th>\n",
       "      <td>2023-09-19 12:35:00</td>\n",
       "      <td>Programa da Petrobras de crédito a fornecedore...</td>\n",
       "      <td>['Por Marta Nogueira', 'RIO DE JANEIRO (Reuter...</td>\n",
       "    </tr>\n",
       "    <tr>\n",
       "      <th>3</th>\n",
       "      <td>2023-09-19 11:10:00</td>\n",
       "      <td>Ibovespa tem variações modestas em clima de ex...</td>\n",
       "      <td>['Por Paula Arend Laier', 'SÃO PAULO (Reuters)...</td>\n",
       "    </tr>\n",
       "    <tr>\n",
       "      <th>4</th>\n",
       "      <td>2023-09-19 08:28:00</td>\n",
       "      <td>Ibovespa tem instabildiade antes de Fed e Copo...</td>\n",
       "      <td>['A alta do petróleo no exterior e o aumento a...</td>\n",
       "    </tr>\n",
       "  </tbody>\n",
       "</table>\n",
       "</div>"
      ],
      "text/plain": [
       "            data_hora                                             titulo  \\\n",
       "0 2023-09-19 15:34:00  Investidores estrangeiros querem entender marc...   \n",
       "1 2023-09-19 14:37:00  Petrobras contrata sonda de perfuração da Fore...   \n",
       "2 2023-09-19 12:35:00  Programa da Petrobras de crédito a fornecedore...   \n",
       "3 2023-09-19 11:10:00  Ibovespa tem variações modestas em clima de ex...   \n",
       "4 2023-09-19 08:28:00  Ibovespa tem instabildiade antes de Fed e Copo...   \n",
       "\n",
       "                                               texto  \n",
       "0  ['O ministro da Fazenda, Fernando Haddad, diss...  \n",
       "1  ['RIO DE JANEIRO (Reuters) - A Petrobras (BVMF...  \n",
       "2  ['Por Marta Nogueira', 'RIO DE JANEIRO (Reuter...  \n",
       "3  ['Por Paula Arend Laier', 'SÃO PAULO (Reuters)...  \n",
       "4  ['A alta do petróleo no exterior e o aumento a...  "
      ]
     },
     "execution_count": 132,
     "metadata": {},
     "output_type": "execute_result"
    }
   ],
   "source": [
    "petrocsv = getCsv('PETR4')\n",
    "petrocsv.head()"
   ]
  },
  {
   "cell_type": "code",
   "execution_count": 133,
   "metadata": {},
   "outputs": [
    {
     "data": {
      "text/plain": [
       "(Timestamp('2023-09-19 15:34:00'), Timestamp('2023-09-14 10:11:00'))"
      ]
     },
     "execution_count": 133,
     "metadata": {},
     "output_type": "execute_result"
    }
   ],
   "source": [
    "petrocsv['data_hora'].max(), petrocsv['data_hora'].min()"
   ]
  },
  {
   "cell_type": "code",
   "execution_count": 144,
   "metadata": {},
   "outputs": [],
   "source": [
    "def getIntervalos():\n",
    "    dataMax = max(petrocsv['data_hora'].max(), amercsv['data_hora'].max(), magalucsv['data_hora'].max())\n",
    "    dataMin = min(petrocsv['data_hora'].min(), amercsv['data_hora'].min(), magalucsv['data_hora'].min())\n",
    "\n",
    "    intervalo = pd.date_range(start=dataMin, end=dataMax, freq='7D')\n",
    "    return dataMin, dataMax, intervalo.to_list()"
   ]
  },
  {
   "cell_type": "code",
   "execution_count": 145,
   "metadata": {},
   "outputs": [],
   "source": [
    "dataMin, dataMasx, intervalos = getIntervalos()"
   ]
  },
  {
   "cell_type": "code",
   "execution_count": 146,
   "metadata": {},
   "outputs": [
    {
     "data": {
      "text/plain": [
       "(Timestamp('2023-08-02 14:49:00'),\n",
       " Timestamp('2023-09-19 15:34:00'),\n",
       " [Timestamp('2023-08-02 14:49:00'),\n",
       "  Timestamp('2023-08-09 14:49:00'),\n",
       "  Timestamp('2023-08-16 14:49:00'),\n",
       "  Timestamp('2023-08-23 14:49:00'),\n",
       "  Timestamp('2023-08-30 14:49:00'),\n",
       "  Timestamp('2023-09-06 14:49:00'),\n",
       "  Timestamp('2023-09-13 14:49:00')])"
      ]
     },
     "execution_count": 146,
     "metadata": {},
     "output_type": "execute_result"
    }
   ],
   "source": [
    "dataMin, dataMax, intervalos"
   ]
  },
  {
   "cell_type": "code",
   "execution_count": 147,
   "metadata": {},
   "outputs": [
    {
     "name": "stdout",
     "output_type": "stream",
     "text": [
      "[*********************100%%**********************]  1 of 1 completed\n"
     ]
    }
   ],
   "source": [
    "# amer = yf.download('AMER3.SA', start=dataMin, end=dataMax)"
   ]
  },
  {
   "cell_type": "code",
   "execution_count": 156,
   "metadata": {},
   "outputs": [
    {
     "data": {
      "text/html": [
       "<div>\n",
       "<style scoped>\n",
       "    .dataframe tbody tr th:only-of-type {\n",
       "        vertical-align: middle;\n",
       "    }\n",
       "\n",
       "    .dataframe tbody tr th {\n",
       "        vertical-align: top;\n",
       "    }\n",
       "\n",
       "    .dataframe thead th {\n",
       "        text-align: right;\n",
       "    }\n",
       "</style>\n",
       "<table border=\"1\" class=\"dataframe\">\n",
       "  <thead>\n",
       "    <tr style=\"text-align: right;\">\n",
       "      <th></th>\n",
       "      <th>Open</th>\n",
       "      <th>High</th>\n",
       "      <th>Low</th>\n",
       "      <th>Close</th>\n",
       "      <th>Volume</th>\n",
       "      <th>Dividends</th>\n",
       "      <th>Stock Splits</th>\n",
       "    </tr>\n",
       "    <tr>\n",
       "      <th>Datetime</th>\n",
       "      <th></th>\n",
       "      <th></th>\n",
       "      <th></th>\n",
       "      <th></th>\n",
       "      <th></th>\n",
       "      <th></th>\n",
       "      <th></th>\n",
       "    </tr>\n",
       "  </thead>\n",
       "  <tbody>\n",
       "    <tr>\n",
       "      <th>2023-08-02 14:45:00-03:00</th>\n",
       "      <td>1.11</td>\n",
       "      <td>1.12</td>\n",
       "      <td>1.11</td>\n",
       "      <td>1.11</td>\n",
       "      <td>0</td>\n",
       "      <td>0.0</td>\n",
       "      <td>0.0</td>\n",
       "    </tr>\n",
       "    <tr>\n",
       "      <th>2023-08-02 14:50:00-03:00</th>\n",
       "      <td>1.11</td>\n",
       "      <td>1.12</td>\n",
       "      <td>1.11</td>\n",
       "      <td>1.11</td>\n",
       "      <td>196100</td>\n",
       "      <td>0.0</td>\n",
       "      <td>0.0</td>\n",
       "    </tr>\n",
       "    <tr>\n",
       "      <th>2023-08-02 14:55:00-03:00</th>\n",
       "      <td>1.11</td>\n",
       "      <td>1.12</td>\n",
       "      <td>1.11</td>\n",
       "      <td>1.11</td>\n",
       "      <td>23300</td>\n",
       "      <td>0.0</td>\n",
       "      <td>0.0</td>\n",
       "    </tr>\n",
       "    <tr>\n",
       "      <th>2023-08-02 15:00:00-03:00</th>\n",
       "      <td>1.11</td>\n",
       "      <td>1.12</td>\n",
       "      <td>1.11</td>\n",
       "      <td>1.11</td>\n",
       "      <td>109900</td>\n",
       "      <td>0.0</td>\n",
       "      <td>0.0</td>\n",
       "    </tr>\n",
       "    <tr>\n",
       "      <th>2023-08-02 15:05:00-03:00</th>\n",
       "      <td>1.12</td>\n",
       "      <td>1.12</td>\n",
       "      <td>1.11</td>\n",
       "      <td>1.11</td>\n",
       "      <td>19000</td>\n",
       "      <td>0.0</td>\n",
       "      <td>0.0</td>\n",
       "    </tr>\n",
       "    <tr>\n",
       "      <th>...</th>\n",
       "      <td>...</td>\n",
       "      <td>...</td>\n",
       "      <td>...</td>\n",
       "      <td>...</td>\n",
       "      <td>...</td>\n",
       "      <td>...</td>\n",
       "      <td>...</td>\n",
       "    </tr>\n",
       "    <tr>\n",
       "      <th>2023-08-09 14:25:00-03:00</th>\n",
       "      <td>1.09</td>\n",
       "      <td>1.09</td>\n",
       "      <td>1.09</td>\n",
       "      <td>1.09</td>\n",
       "      <td>0</td>\n",
       "      <td>0.0</td>\n",
       "      <td>0.0</td>\n",
       "    </tr>\n",
       "    <tr>\n",
       "      <th>2023-08-09 14:30:00-03:00</th>\n",
       "      <td>1.10</td>\n",
       "      <td>1.10</td>\n",
       "      <td>1.09</td>\n",
       "      <td>1.09</td>\n",
       "      <td>4900</td>\n",
       "      <td>0.0</td>\n",
       "      <td>0.0</td>\n",
       "    </tr>\n",
       "    <tr>\n",
       "      <th>2023-08-09 14:35:00-03:00</th>\n",
       "      <td>1.10</td>\n",
       "      <td>1.10</td>\n",
       "      <td>1.09</td>\n",
       "      <td>1.09</td>\n",
       "      <td>17600</td>\n",
       "      <td>0.0</td>\n",
       "      <td>0.0</td>\n",
       "    </tr>\n",
       "    <tr>\n",
       "      <th>2023-08-09 14:40:00-03:00</th>\n",
       "      <td>1.09</td>\n",
       "      <td>1.09</td>\n",
       "      <td>1.09</td>\n",
       "      <td>1.09</td>\n",
       "      <td>12700</td>\n",
       "      <td>0.0</td>\n",
       "      <td>0.0</td>\n",
       "    </tr>\n",
       "    <tr>\n",
       "      <th>2023-08-09 14:45:00-03:00</th>\n",
       "      <td>1.10</td>\n",
       "      <td>1.10</td>\n",
       "      <td>1.09</td>\n",
       "      <td>1.09</td>\n",
       "      <td>17800</td>\n",
       "      <td>0.0</td>\n",
       "      <td>0.0</td>\n",
       "    </tr>\n",
       "  </tbody>\n",
       "</table>\n",
       "<p>416 rows × 7 columns</p>\n",
       "</div>"
      ],
      "text/plain": [
       "                           Open  High   Low  Close  Volume  Dividends  \\\n",
       "Datetime                                                                \n",
       "2023-08-02 14:45:00-03:00  1.11  1.12  1.11   1.11       0        0.0   \n",
       "2023-08-02 14:50:00-03:00  1.11  1.12  1.11   1.11  196100        0.0   \n",
       "2023-08-02 14:55:00-03:00  1.11  1.12  1.11   1.11   23300        0.0   \n",
       "2023-08-02 15:00:00-03:00  1.11  1.12  1.11   1.11  109900        0.0   \n",
       "2023-08-02 15:05:00-03:00  1.12  1.12  1.11   1.11   19000        0.0   \n",
       "...                         ...   ...   ...    ...     ...        ...   \n",
       "2023-08-09 14:25:00-03:00  1.09  1.09  1.09   1.09       0        0.0   \n",
       "2023-08-09 14:30:00-03:00  1.10  1.10  1.09   1.09    4900        0.0   \n",
       "2023-08-09 14:35:00-03:00  1.10  1.10  1.09   1.09   17600        0.0   \n",
       "2023-08-09 14:40:00-03:00  1.09  1.09  1.09   1.09   12700        0.0   \n",
       "2023-08-09 14:45:00-03:00  1.10  1.10  1.09   1.09   17800        0.0   \n",
       "\n",
       "                           Stock Splits  \n",
       "Datetime                                 \n",
       "2023-08-02 14:45:00-03:00           0.0  \n",
       "2023-08-02 14:50:00-03:00           0.0  \n",
       "2023-08-02 14:55:00-03:00           0.0  \n",
       "2023-08-02 15:00:00-03:00           0.0  \n",
       "2023-08-02 15:05:00-03:00           0.0  \n",
       "...                                 ...  \n",
       "2023-08-09 14:25:00-03:00           0.0  \n",
       "2023-08-09 14:30:00-03:00           0.0  \n",
       "2023-08-09 14:35:00-03:00           0.0  \n",
       "2023-08-09 14:40:00-03:00           0.0  \n",
       "2023-08-09 14:45:00-03:00           0.0  \n",
       "\n",
       "[416 rows x 7 columns]"
      ]
     },
     "execution_count": 156,
     "metadata": {},
     "output_type": "execute_result"
    }
   ],
   "source": [
    "amer = yf.Ticker('AMER3.SA')\n",
    "amer.history(start=intervalos[0], end=intervalos[1], interval='5m')"
   ]
  },
  {
   "cell_type": "code",
   "execution_count": 163,
   "metadata": {},
   "outputs": [
    {
     "data": {
      "text/plain": [
       "DatetimeIndex(['2023-08-02 14:45:00-03:00', '2023-08-02 14:50:00-03:00',\n",
       "               '2023-08-02 14:55:00-03:00', '2023-08-02 15:00:00-03:00',\n",
       "               '2023-08-02 15:05:00-03:00', '2023-08-02 15:10:00-03:00',\n",
       "               '2023-08-02 15:15:00-03:00', '2023-08-02 15:20:00-03:00',\n",
       "               '2023-08-02 15:25:00-03:00', '2023-08-02 15:30:00-03:00',\n",
       "               ...\n",
       "               '2023-08-09 14:00:00-03:00', '2023-08-09 14:05:00-03:00',\n",
       "               '2023-08-09 14:10:00-03:00', '2023-08-09 14:15:00-03:00',\n",
       "               '2023-08-09 14:20:00-03:00', '2023-08-09 14:25:00-03:00',\n",
       "               '2023-08-09 14:30:00-03:00', '2023-08-09 14:35:00-03:00',\n",
       "               '2023-08-09 14:40:00-03:00', '2023-08-09 14:45:00-03:00'],\n",
       "              dtype='datetime64[ns, America/Sao_Paulo]', name='Datetime', length=416, freq=None)"
      ]
     },
     "execution_count": 163,
     "metadata": {},
     "output_type": "execute_result"
    }
   ],
   "source": [
    "# encontrar o valor da ação mais próximo da data de cada linha do csv\n",
    "# para cada linha do csv, encontrar o valor da ação mais próximo da data\n",
    "\n",
    "\n",
    "amer.history(start=intervalos[0], end=intervalos[1], interval='5m').index\n"
   ]
  },
  {
   "cell_type": "code",
   "execution_count": null,
   "metadata": {},
   "outputs": [],
   "source": []
  }
 ],
 "metadata": {
  "kernelspec": {
   "display_name": "Python 3",
   "language": "python",
   "name": "python3"
  },
  "language_info": {
   "codemirror_mode": {
    "name": "ipython",
    "version": 3
   },
   "file_extension": ".py",
   "mimetype": "text/x-python",
   "name": "python",
   "nbconvert_exporter": "python",
   "pygments_lexer": "ipython3",
   "version": "3.11.5"
  },
  "orig_nbformat": 4
 },
 "nbformat": 4,
 "nbformat_minor": 2
}
