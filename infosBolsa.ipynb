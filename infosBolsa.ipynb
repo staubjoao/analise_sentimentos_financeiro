{
 "cells": [
  {
   "cell_type": "code",
   "execution_count": 80,
   "metadata": {},
   "outputs": [],
   "source": [
    "import yfinance as yf\n",
    "import pandas as pd\n",
    "from datetime import datetime\n",
    "from datetime import timedelta"
   ]
  },
  {
   "cell_type": "code",
   "execution_count": 81,
   "metadata": {},
   "outputs": [],
   "source": [
    "empresas = ['AMER3', 'MGLU3', 'PETR4']"
   ]
  },
  {
   "cell_type": "code",
   "execution_count": 82,
   "metadata": {},
   "outputs": [],
   "source": [
    "def getCsv(empresa):\n",
    "    dados = pd.read_csv(empresa + '.csv', index_col='Unnamed: 0', parse_dates=[['data', 'hora']], dayfirst=True)\n",
    "\n",
    "    return dados.sort_values('data_hora')"
   ]
  },
  {
   "cell_type": "code",
   "execution_count": 83,
   "metadata": {},
   "outputs": [
    {
     "data": {
      "text/html": [
       "<div>\n",
       "<style scoped>\n",
       "    .dataframe tbody tr th:only-of-type {\n",
       "        vertical-align: middle;\n",
       "    }\n",
       "\n",
       "    .dataframe tbody tr th {\n",
       "        vertical-align: top;\n",
       "    }\n",
       "\n",
       "    .dataframe thead th {\n",
       "        text-align: right;\n",
       "    }\n",
       "</style>\n",
       "<table border=\"1\" class=\"dataframe\">\n",
       "  <thead>\n",
       "    <tr style=\"text-align: right;\">\n",
       "      <th></th>\n",
       "      <th>data_hora</th>\n",
       "      <th>url</th>\n",
       "      <th>titulo</th>\n",
       "      <th>texto</th>\n",
       "    </tr>\n",
       "  </thead>\n",
       "  <tbody>\n",
       "    <tr>\n",
       "      <th>149</th>\n",
       "      <td>2023-06-06 05:00:00</td>\n",
       "      <td>https://br.investing.com/news/stock-market-new...</td>\n",
       "      <td>Americanas: ex-presidente Sergio Rial é o 1º a...</td>\n",
       "      <td>['O executivo Sergio Rial, que renunciou à pre...</td>\n",
       "    </tr>\n",
       "    <tr>\n",
       "      <th>148</th>\n",
       "      <td>2023-06-06 09:15:00</td>\n",
       "      <td>https://br.investing.com/news/stock-market-new...</td>\n",
       "      <td>Abertura de mercado: o que esperar do Ibovespa...</td>\n",
       "      <td>['Por Jessica Bahia Melo', 'Investing.com – Os...</td>\n",
       "    </tr>\n",
       "    <tr>\n",
       "      <th>147</th>\n",
       "      <td>2023-06-06 10:29:00</td>\n",
       "      <td>https://br.investing.com/news/stock-market-new...</td>\n",
       "      <td>Ações: Locaweb, Petz e Méliuz registram maiore...</td>\n",
       "      <td>['Investing.com — O Ibovespa subia 0,49% às 10...</td>\n",
       "    </tr>\n",
       "    <tr>\n",
       "      <th>146</th>\n",
       "      <td>2023-06-07 15:54:00</td>\n",
       "      <td>https://br.investing.com/news/stock-market-new...</td>\n",
       "      <td>Minoritários abrem queixa contra Americanas po...</td>\n",
       "      <td>['Por Andre Romani e Carolina Pulice', 'SÃO PA...</td>\n",
       "    </tr>\n",
       "    <tr>\n",
       "      <th>145</th>\n",
       "      <td>2023-06-09 08:41:00</td>\n",
       "      <td>https://br.investing.com/news/stock-market-new...</td>\n",
       "      <td>Site de acionistas que se sentiram lesados por...</td>\n",
       "      <td>['Um site que reúne acionistas que se sentiram...</td>\n",
       "    </tr>\n",
       "  </tbody>\n",
       "</table>\n",
       "</div>"
      ],
      "text/plain": [
       "              data_hora                                                url  \\\n",
       "149 2023-06-06 05:00:00  https://br.investing.com/news/stock-market-new...   \n",
       "148 2023-06-06 09:15:00  https://br.investing.com/news/stock-market-new...   \n",
       "147 2023-06-06 10:29:00  https://br.investing.com/news/stock-market-new...   \n",
       "146 2023-06-07 15:54:00  https://br.investing.com/news/stock-market-new...   \n",
       "145 2023-06-09 08:41:00  https://br.investing.com/news/stock-market-new...   \n",
       "\n",
       "                                                titulo  \\\n",
       "149  Americanas: ex-presidente Sergio Rial é o 1º a...   \n",
       "148  Abertura de mercado: o que esperar do Ibovespa...   \n",
       "147  Ações: Locaweb, Petz e Méliuz registram maiore...   \n",
       "146  Minoritários abrem queixa contra Americanas po...   \n",
       "145  Site de acionistas que se sentiram lesados por...   \n",
       "\n",
       "                                                 texto  \n",
       "149  ['O executivo Sergio Rial, que renunciou à pre...  \n",
       "148  ['Por Jessica Bahia Melo', 'Investing.com – Os...  \n",
       "147  ['Investing.com — O Ibovespa subia 0,49% às 10...  \n",
       "146  ['Por Andre Romani e Carolina Pulice', 'SÃO PA...  \n",
       "145  ['Um site que reúne acionistas que se sentiram...  "
      ]
     },
     "execution_count": 83,
     "metadata": {},
     "output_type": "execute_result"
    }
   ],
   "source": [
    "amerdf = getCsv('AMER3')\n",
    "amerdf.head()"
   ]
  },
  {
   "cell_type": "code",
   "execution_count": 84,
   "metadata": {},
   "outputs": [
    {
     "name": "stdout",
     "output_type": "stream",
     "text": [
      "<class 'pandas.core.frame.DataFrame'>\n",
      "Index: 150 entries, 149 to 0\n",
      "Data columns (total 4 columns):\n",
      " #   Column     Non-Null Count  Dtype         \n",
      "---  ------     --------------  -----         \n",
      " 0   data_hora  150 non-null    datetime64[ns]\n",
      " 1   url        150 non-null    object        \n",
      " 2   titulo     150 non-null    object        \n",
      " 3   texto      150 non-null    object        \n",
      "dtypes: datetime64[ns](1), object(3)\n",
      "memory usage: 5.9+ KB\n"
     ]
    }
   ],
   "source": [
    "amerdf.info()"
   ]
  },
  {
   "cell_type": "markdown",
   "metadata": {},
   "source": [
    "###################################################################################"
   ]
  },
  {
   "cell_type": "code",
   "execution_count": 85,
   "metadata": {},
   "outputs": [
    {
     "data": {
      "text/plain": [
       "Timestamp('2023-09-21 00:00:00-0300', tz='America/Sao_Paulo')"
      ]
     },
     "execution_count": 85,
     "metadata": {},
     "output_type": "execute_result"
    }
   ],
   "source": [
    "def getDados(empresa, dataMax, dataMin):\n",
    "    \n",
    "    dados = yf.Ticker(empresa + '.SA')\n",
    "    dados = dados.history(start=(dataMin - timedelta(days=2)), end=(dataMax + timedelta(days=2)), interval='1d')\n",
    "    dados.reset_index(inplace=True)\n",
    "    dados['data_hora'] = dados['Date']\n",
    "    dados.drop(columns=['Date'], inplace=True)\n",
    "    dados.set_index('data_hora', inplace=True)\n",
    "    return dados\n",
    "\n",
    "getDados('AMER3', amerdf['data_hora'].max(), amerdf['data_hora'].min()).index.max()"
   ]
  },
  {
   "cell_type": "code",
   "execution_count": 86,
   "metadata": {},
   "outputs": [],
   "source": [
    "def getDataMaisProxima(data):\n",
    "\n",
    "    datas = {\n",
    "                abs(data.timestamp() - date.timestamp()) : date for date in amer.index}\n",
    "    \n",
    "    dataMaisProxima = datas[min(datas.keys())]\n",
    "\n",
    "    return dataMaisProxima - timedelta(days=1), dataMaisProxima, dataMaisProxima + timedelta(days=1), dataMaisProxima + timedelta(days=2)"
   ]
  },
  {
   "cell_type": "code",
   "execution_count": 95,
   "metadata": {},
   "outputs": [],
   "source": [
    "def getValoresData(dados, data):\n",
    "    try:\n",
    "        valores = dados.iloc[dados.index.get_loc(data)]\n",
    "\n",
    "    except KeyError:\n",
    "        return {'Abertura' : None,\n",
    "                'Fechamento' : None}\n",
    "\n",
    "    return {'Abertura' : valores.Open,\n",
    "            'Fechamento' : valores.Close}"
   ]
  },
  {
   "cell_type": "code",
   "execution_count": 96,
   "metadata": {},
   "outputs": [],
   "source": [
    "def extraiValoresBolsa(empresa):\n",
    "    df = getCsv(empresa)\n",
    "    dados = getDados(empresa, df['data_hora'].max(), df['data_hora'].min())\n",
    "\n",
    "    aberturaDiaAnterior = []\n",
    "    aberturaDiaAtual = []\n",
    "    aberturaDiaSeguinte = []\n",
    "    abertura2Dias = []\n",
    "\n",
    "    fechamentoDiaAnterior = []\n",
    "    fechamentoDiaAtual = []\n",
    "    fechamentoDiaSeguinte = []\n",
    "    fechamento2Dias = []\n",
    "\n",
    "\n",
    "    for data in df['data_hora']:\n",
    "        diaAnterior, dataAtual, dataSeguinte, dia2 = getDataMaisProxima(data)\n",
    "\n",
    "        valores = getValoresData(dados, diaAnterior)\n",
    "        aberturaDiaAnterior.append(valores['Abertura'])\n",
    "        fechamentoDiaAnterior.append(valores['Fechamento'])\n",
    "\n",
    "        valores = getValoresData(dados, dataAtual)\n",
    "        aberturaDiaAtual.append(valores['Abertura'])\n",
    "        fechamentoDiaAtual.append(valores['Fechamento'])\n",
    "\n",
    "        valores = getValoresData(dados, dataSeguinte)\n",
    "        aberturaDiaSeguinte.append(valores['Abertura'])\n",
    "        fechamentoDiaSeguinte.append(valores['Fechamento'])\n",
    "\n",
    "        valores = getValoresData(dados, dia2)\n",
    "        abertura2Dias.append(valores['Abertura'])\n",
    "        fechamento2Dias.append(valores['Fechamento'])\n",
    "\n",
    "    print('Aqui passou')\n",
    "\n",
    "    df['aberturaDiaAnterior'] = aberturaDiaAnterior\n",
    "    df['fechamentoDiaAnterior'] = fechamentoDiaAnterior\n",
    "\n",
    "    df['aberturaDiaAtual'] = aberturaDiaAtual\n",
    "    df['fechamentoDiaAtual'] = fechamentoDiaAtual\n",
    "\n",
    "    df['aberturaDiaSeguinte'] = aberturaDiaSeguinte\n",
    "    df['fechamentoDiaSeguinte'] = fechamentoDiaSeguinte\n",
    "\n",
    "    df['abertura2Dias'] = abertura2Dias\n",
    "    df['fechamento2Dias'] = fechamento2Dias\n",
    "\n",
    "    return df"
   ]
  },
  {
   "cell_type": "code",
   "execution_count": 98,
   "metadata": {},
   "outputs": [
    {
     "name": "stdout",
     "output_type": "stream",
     "text": [
      "AMER3\n",
      "Aqui passou\n",
      "MGLU3\n",
      "Aqui passou\n",
      "PETR4\n",
      "Aqui passou\n"
     ]
    }
   ],
   "source": [
    "for empresa in empresas:\n",
    "    print(empresa)\n",
    "    df = extraiValoresBolsa(empresa)\n",
    "    df.to_csv(empresa + '.csv')"
   ]
  },
  {
   "cell_type": "code",
   "execution_count": null,
   "metadata": {},
   "outputs": [],
   "source": []
  }
 ],
 "metadata": {
  "kernelspec": {
   "display_name": "Python 3",
   "language": "python",
   "name": "python3"
  },
  "language_info": {
   "codemirror_mode": {
    "name": "ipython",
    "version": 3
   },
   "file_extension": ".py",
   "mimetype": "text/x-python",
   "name": "python",
   "nbconvert_exporter": "python",
   "pygments_lexer": "ipython3",
   "version": "3.11.5"
  },
  "orig_nbformat": 4
 },
 "nbformat": 4,
 "nbformat_minor": 2
}
