{
 "cells": [
  {
   "cell_type": "code",
   "execution_count": 14,
   "metadata": {},
   "outputs": [],
   "source": [
    "import yfinance as yf\n",
    "import pandas as pd\n",
    "from datetime import datetime\n",
    "from datetime import timedelta"
   ]
  },
  {
   "cell_type": "code",
   "execution_count": 15,
   "metadata": {},
   "outputs": [],
   "source": [
    "empresas = ['AMER3', 'MGLU3', 'PETR4']"
   ]
  },
  {
   "cell_type": "code",
   "execution_count": 16,
   "metadata": {},
   "outputs": [],
   "source": [
    "def getCsv(empresa):\n",
    "    dados = pd.read_csv(empresa + '.csv', index_col='Unnamed: 0')\n",
    "    dados['data_hora'] = pd.to_datetime(dados['data_hora'], format='%Y-%m-%d %H:%M:%S')\n",
    "\n",
    "    return dados.sort_values('data_hora')"
   ]
  },
  {
   "cell_type": "markdown",
   "metadata": {},
   "source": [
    "###################################################################################"
   ]
  },
  {
   "cell_type": "code",
   "execution_count": 17,
   "metadata": {},
   "outputs": [],
   "source": [
    "def getDadosBolsa(empresa, dataMax, dataMin):\n",
    "\n",
    "    dados = yf.Ticker(empresa + '.SA')\n",
    "    dados = dados.history(start=(dataMin - timedelta(days=2)), end=(dataMax + timedelta(days=2)), interval='1d')\n",
    "    dados.reset_index(inplace=True)\n",
    "    dados['data_hora'] = dados['Date']\n",
    "    dados.drop(columns=['Date'], inplace=True)\n",
    "    dados.set_index('data_hora', inplace=True)\n",
    "    return dados"
   ]
  },
  {
   "cell_type": "code",
   "execution_count": 18,
   "metadata": {},
   "outputs": [],
   "source": [
    "def getDataMaisProxima(empresa, data):\n",
    "\n",
    "    datas = {\n",
    "                abs(data.timestamp() - date.timestamp()) : date for date in empresa.index}\n",
    "    \n",
    "    dataMaisProxima = datas[min(datas.keys())]\n",
    "\n",
    "    return dataMaisProxima - timedelta(days=1), dataMaisProxima, dataMaisProxima + timedelta(days=1), dataMaisProxima + timedelta(days=2)"
   ]
  },
  {
   "cell_type": "code",
   "execution_count": 19,
   "metadata": {},
   "outputs": [],
   "source": [
    "def getValoresData(dados, data):\n",
    "    try:\n",
    "        valores = dados.iloc[dados.index.get_loc(data)]\n",
    "\n",
    "    except KeyError:\n",
    "        return {'Abertura' : None,\n",
    "                'Fechamento' : None}\n",
    "\n",
    "    return {'Abertura' : valores.Open,\n",
    "            'Fechamento' : valores.Close}"
   ]
  },
  {
   "cell_type": "code",
   "execution_count": 20,
   "metadata": {},
   "outputs": [],
   "source": [
    "def extraiValoresBolsa(empresa):\n",
    "    df = getCsv(empresa)\n",
    "    \n",
    "    dados_bolsa = getDadosBolsa(empresa, df['data_hora'].max(), df['data_hora'].min())\n",
    "\n",
    "    aberturaDiaAnterior = []\n",
    "    aberturaDiaAtual = []\n",
    "    aberturaDiaSeguinte = []\n",
    "    abertura2Dias = []\n",
    "\n",
    "    fechamentoDiaAnterior = []\n",
    "    fechamentoDiaAtual = []\n",
    "    fechamentoDiaSeguinte = []\n",
    "    fechamento2Dias = []\n",
    "\n",
    "\n",
    "    for data in df['data_hora']:\n",
    "        diaAnterior, dataAtual, dataSeguinte, dia2 = getDataMaisProxima(dados_bolsa, data)\n",
    "\n",
    "        valores = getValoresData(dados_bolsa, diaAnterior)\n",
    "        aberturaDiaAnterior.append(valores['Abertura'])\n",
    "        fechamentoDiaAnterior.append(valores['Fechamento'])\n",
    "\n",
    "        valores = getValoresData(dados_bolsa, dataAtual)\n",
    "        aberturaDiaAtual.append(valores['Abertura'])\n",
    "        fechamentoDiaAtual.append(valores['Fechamento'])\n",
    "\n",
    "        valores = getValoresData(dados_bolsa, dataSeguinte)\n",
    "        aberturaDiaSeguinte.append(valores['Abertura'])\n",
    "        fechamentoDiaSeguinte.append(valores['Fechamento'])\n",
    "\n",
    "        valores = getValoresData(dados_bolsa, dia2)\n",
    "        abertura2Dias.append(valores['Abertura'])\n",
    "        fechamento2Dias.append(valores['Fechamento'])\n",
    "\n",
    "    print('Aqui passou')\n",
    "\n",
    "    df['aberturaDiaAnterior'] = aberturaDiaAnterior\n",
    "    df['fechamentoDiaAnterior'] = fechamentoDiaAnterior\n",
    "\n",
    "    df['aberturaDiaAtual'] = aberturaDiaAtual\n",
    "    df['fechamentoDiaAtual'] = fechamentoDiaAtual\n",
    "\n",
    "    df['aberturaDiaSeguinte'] = aberturaDiaSeguinte\n",
    "    df['fechamentoDiaSeguinte'] = fechamentoDiaSeguinte\n",
    "\n",
    "    df['abertura2Dias'] = abertura2Dias\n",
    "    df['fechamento2Dias'] = fechamento2Dias\n",
    "\n",
    "    return df"
   ]
  },
  {
   "cell_type": "code",
   "execution_count": 21,
   "metadata": {},
   "outputs": [
    {
     "name": "stdout",
     "output_type": "stream",
     "text": [
      "AMER3\n",
      "Aqui passou\n",
      "MGLU3\n",
      "Aqui passou\n",
      "PETR4\n",
      "Aqui passou\n"
     ]
    }
   ],
   "source": [
    "for empresa in empresas:\n",
    "    print(empresa)\n",
    "    df = extraiValoresBolsa(empresa)\n",
    "    df.to_csv(empresa + '.csv')"
   ]
  }
 ],
 "metadata": {
  "kernelspec": {
   "display_name": "Python 3",
   "language": "python",
   "name": "python3"
  },
  "language_info": {
   "codemirror_mode": {
    "name": "ipython",
    "version": 3
   },
   "file_extension": ".py",
   "mimetype": "text/x-python",
   "name": "python",
   "nbconvert_exporter": "python",
   "pygments_lexer": "ipython3",
   "version": "3.11.5"
  },
  "orig_nbformat": 4
 },
 "nbformat": 4,
 "nbformat_minor": 2
}
