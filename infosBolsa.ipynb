{
 "cells": [
  {
   "cell_type": "code",
   "execution_count": 14,
   "metadata": {},
   "outputs": [],
   "source": [
    "import yfinance as yf\n",
    "import pandas as pd\n",
    "from datetime import datetime\n",
    "from datetime import timedelta"
   ]
  },
  {
   "cell_type": "code",
   "execution_count": 15,
   "metadata": {},
   "outputs": [],
   "source": [
    "empresas = ['AMER3_2', 'MGLU3_2', 'PETR4_2']"
   ]
  },
  {
   "cell_type": "code",
   "execution_count": 16,
   "metadata": {},
   "outputs": [],
   "source": [
    "def getCsv(empresa):\n",
    "    dados = pd.read_csv(empresa + '.csv', index_col='Unnamed: 0')\n",
    "    if 'data_hora' not in dados.columns:\n",
    "        dados['data_hora'] = f\"{dados['data']} {dados['hora']}\"\n",
    "    dados['data_hora'] = pd.to_datetime(dados['data_hora'], format='%Y-%m-%d %H:%M:%S')\n",
    "\n",
    "    return dados.sort_values('data_hora')"
   ]
  },
  {
   "cell_type": "markdown",
   "metadata": {},
   "source": [
    "###################################################################################"
   ]
  },
  {
   "cell_type": "code",
   "execution_count": 17,
   "metadata": {},
   "outputs": [],
   "source": [
    "def getDadosBolsa(empresa, dataMax, dataMin):\n",
    "\n",
    "    dados = yf.Ticker(empresa + '.SA')\n",
    "    dados = dados.history(start=(dataMin - timedelta(days=2)), end=(dataMax + timedelta(days=7)), interval='1d')\n",
    "    dados.reset_index(inplace=True)\n",
    "    dados['data_hora'] = dados['Date']\n",
    "    dados.drop(columns=['Date'], inplace=True)\n",
    "    dados.set_index('data_hora', inplace=True)\n",
    "    return dados"
   ]
  },
  {
   "cell_type": "code",
   "execution_count": 18,
   "metadata": {},
   "outputs": [],
   "source": [
    "def getDataMaisProxima(empresa, data):\n",
    "\n",
    "    datas = {\n",
    "                abs(data.timestamp() - date.timestamp()) : date for date in empresa.index}\n",
    "    \n",
    "    dataMaisProxima = datas[min(datas.keys())]\n",
    "\n",
    "    return dataMaisProxima - timedelta(days=1), dataMaisProxima, dataMaisProxima + timedelta(days=1), dataMaisProxima + timedelta(days=2)"
   ]
  },
  {
   "cell_type": "code",
   "execution_count": 19,
   "metadata": {},
   "outputs": [],
   "source": [
    "def getValores(dados, data):\n",
    "    try:\n",
    "        return dados.iloc[dados.index.get_loc(data)]\n",
    "\n",
    "    except KeyError:\n",
    "        return getValores(dados, data + timedelta(days=1))\n",
    "\n",
    "def montaDictValores(valores):\n",
    "    return {\n",
    "        'Abertura': valores.Open,\n",
    "        'Fechamento': valores.Close,\n",
    "    }\n",
    "\n",
    "def getValoresData(dados, data):\n",
    "    return montaDictValores(getValores(dados, data))"
   ]
  },
  {
   "cell_type": "code",
   "execution_count": 20,
   "metadata": {},
   "outputs": [],
   "source": [
    "def extraiValoresBolsa(empresa):\n",
    "    df = getCsv(empresa)\n",
    "    \n",
    "    dados_bolsa = getDadosBolsa(empresa, df['data_hora'].max(), df['data_hora'].min())\n",
    "\n",
    "    aberturaDiaAnterior = []\n",
    "    aberturaDiaAtual = []\n",
    "    aberturaDiaSeguinte = []\n",
    "    abertura2Dias = []\n",
    "\n",
    "    fechamentoDiaAnterior = []\n",
    "    fechamentoDiaAtual = []\n",
    "    fechamentoDiaSeguinte = []\n",
    "    fechamento2Dias = []\n",
    "\n",
    "    for data in df['data_hora']:\n",
    "        diaAnterior, dataAtual, dataSeguinte, dia2 = getDataMaisProxima(dados_bolsa, data)\n",
    "\n",
    "        valores = getValoresData(dados_bolsa, diaAnterior)\n",
    "        aberturaDiaAnterior.append(valores['Abertura'])\n",
    "        fechamentoDiaAnterior.append(valores['Fechamento'])\n",
    "\n",
    "        valores = getValoresData(dados_bolsa, dataAtual)\n",
    "        aberturaDiaAtual.append(valores['Abertura'])\n",
    "        fechamentoDiaAtual.append(valores['Fechamento'])\n",
    "\n",
    "        valores = getValoresData(dados_bolsa, dataSeguinte)\n",
    "        aberturaDiaSeguinte.append(valores['Abertura'])\n",
    "        fechamentoDiaSeguinte.append(valores['Fechamento'])\n",
    "        \n",
    "        \n",
    "        valores = getValoresData(dados_bolsa, dia2)\n",
    "        abertura2Dias.append(valores['Abertura'])\n",
    "        fechamento2Dias.append(valores['Fechamento'])\n",
    "        \n",
    "    df['aberturaDiaAnterior'] = aberturaDiaAnterior\n",
    "    df['fechamentoDiaAnterior'] = fechamentoDiaAnterior\n",
    "\n",
    "    df['aberturaDiaAtual'] = aberturaDiaAtual\n",
    "    df['fechamentoDiaAtual'] = fechamentoDiaAtual\n",
    "\n",
    "    df['aberturaDiaSeguinte'] = aberturaDiaSeguinte\n",
    "    df['fechamentoDiaSeguinte'] = fechamentoDiaSeguinte\n",
    "\n",
    "    df['abertura2Dias'] = abertura2Dias\n",
    "    df['fechamento2Dias'] = fechamento2Dias\n",
    "\n",
    "    return df"
   ]
  },
  {
   "cell_type": "code",
   "execution_count": 21,
   "metadata": {},
   "outputs": [
    {
     "name": "stdout",
     "output_type": "stream",
     "text": [
      "AMER3_2\n"
     ]
    },
    {
     "ename": "ValueError",
     "evalue": "time data \"0     04.10.2023\n1     01.10.2023\n2     27.09.2023\n3     22.09.2023\n4     19.09.2023\n5     14.09.2023\n6     11.09.2023\n7     07.09.2023\n8     04.09.2023\n9     31.08.2023\n10    28.08.2023\n11    25.08.2023\n12    22.08.2023\n13    18.08.2023\n14    15.08.2023\n15    10.08.2023\n16    05.08.2023\n17    02.08.2023\n18    27.07.2023\n19    24.07.2023\n20    21.07.2023\n21    18.07.2023\n22    14.07.2023\n23    11.07.2023\n24    07.07.2023\nName: data, dtype: object 0     07:55\n1     16:29\n2     09:17\n3     09:16\n4     17:40\n5     09:21\n6     22:12\n7     14:20\n8     21:02\n9     10:28\n10    08:28\n11    10:33\n12    20:26\n13    05:38\n14    16:33\n15    17:12\n16    05:41\n17    15:39\n18    16:03\n19    07:43\n20    16:23\n21    08:40\n22    11:29\n23    21:05\n24    13:44\nName: hora, dtype: object\" doesn't match format \"%Y-%m-%d %H:%M:%S\", at position 0. You might want to try:\n    - passing `format` if your strings have a consistent format;\n    - passing `format='ISO8601'` if your strings are all ISO8601 but not necessarily in exactly the same format;\n    - passing `format='mixed'`, and the format will be inferred for each element individually. You might want to use `dayfirst` alongside this.",
     "output_type": "error",
     "traceback": [
      "\u001b[1;31m---------------------------------------------------------------------------\u001b[0m",
      "\u001b[1;31mValueError\u001b[0m                                Traceback (most recent call last)",
      "\u001b[1;32mc:\\Users\\yonix42\\Desktop\\analise_sentimentos_financeiro\\infosBolsa.ipynb Célula 9\u001b[0m line \u001b[0;36m3\n\u001b[0;32m      <a href='vscode-notebook-cell:/c%3A/Users/yonix42/Desktop/analise_sentimentos_financeiro/infosBolsa.ipynb#X11sZmlsZQ%3D%3D?line=0'>1</a>\u001b[0m \u001b[39mfor\u001b[39;00m empresa \u001b[39min\u001b[39;00m empresas:\n\u001b[0;32m      <a href='vscode-notebook-cell:/c%3A/Users/yonix42/Desktop/analise_sentimentos_financeiro/infosBolsa.ipynb#X11sZmlsZQ%3D%3D?line=1'>2</a>\u001b[0m     \u001b[39mprint\u001b[39m(empresa)\n\u001b[1;32m----> <a href='vscode-notebook-cell:/c%3A/Users/yonix42/Desktop/analise_sentimentos_financeiro/infosBolsa.ipynb#X11sZmlsZQ%3D%3D?line=2'>3</a>\u001b[0m     df \u001b[39m=\u001b[39m extraiValoresBolsa(empresa)\n\u001b[0;32m      <a href='vscode-notebook-cell:/c%3A/Users/yonix42/Desktop/analise_sentimentos_financeiro/infosBolsa.ipynb#X11sZmlsZQ%3D%3D?line=3'>4</a>\u001b[0m     df\u001b[39m.\u001b[39mto_csv(empresa \u001b[39m+\u001b[39m \u001b[39m'\u001b[39m\u001b[39m.csv\u001b[39m\u001b[39m'\u001b[39m)\n",
      "\u001b[1;32mc:\\Users\\yonix42\\Desktop\\analise_sentimentos_financeiro\\infosBolsa.ipynb Célula 9\u001b[0m line \u001b[0;36m2\n\u001b[0;32m      <a href='vscode-notebook-cell:/c%3A/Users/yonix42/Desktop/analise_sentimentos_financeiro/infosBolsa.ipynb#X11sZmlsZQ%3D%3D?line=0'>1</a>\u001b[0m \u001b[39mdef\u001b[39;00m \u001b[39mextraiValoresBolsa\u001b[39m(empresa):\n\u001b[1;32m----> <a href='vscode-notebook-cell:/c%3A/Users/yonix42/Desktop/analise_sentimentos_financeiro/infosBolsa.ipynb#X11sZmlsZQ%3D%3D?line=1'>2</a>\u001b[0m     df \u001b[39m=\u001b[39m getCsv(empresa)\n\u001b[0;32m      <a href='vscode-notebook-cell:/c%3A/Users/yonix42/Desktop/analise_sentimentos_financeiro/infosBolsa.ipynb#X11sZmlsZQ%3D%3D?line=3'>4</a>\u001b[0m     dados_bolsa \u001b[39m=\u001b[39m getDadosBolsa(empresa, df[\u001b[39m'\u001b[39m\u001b[39mdata_hora\u001b[39m\u001b[39m'\u001b[39m]\u001b[39m.\u001b[39mmax(), df[\u001b[39m'\u001b[39m\u001b[39mdata_hora\u001b[39m\u001b[39m'\u001b[39m]\u001b[39m.\u001b[39mmin())\n\u001b[0;32m      <a href='vscode-notebook-cell:/c%3A/Users/yonix42/Desktop/analise_sentimentos_financeiro/infosBolsa.ipynb#X11sZmlsZQ%3D%3D?line=5'>6</a>\u001b[0m     aberturaDiaAnterior \u001b[39m=\u001b[39m []\n",
      "\u001b[1;32mc:\\Users\\yonix42\\Desktop\\analise_sentimentos_financeiro\\infosBolsa.ipynb Célula 9\u001b[0m line \u001b[0;36m5\n\u001b[0;32m      <a href='vscode-notebook-cell:/c%3A/Users/yonix42/Desktop/analise_sentimentos_financeiro/infosBolsa.ipynb#X11sZmlsZQ%3D%3D?line=2'>3</a>\u001b[0m \u001b[39mif\u001b[39;00m \u001b[39m'\u001b[39m\u001b[39mdata_hora\u001b[39m\u001b[39m'\u001b[39m \u001b[39mnot\u001b[39;00m \u001b[39min\u001b[39;00m dados\u001b[39m.\u001b[39mcolumns:\n\u001b[0;32m      <a href='vscode-notebook-cell:/c%3A/Users/yonix42/Desktop/analise_sentimentos_financeiro/infosBolsa.ipynb#X11sZmlsZQ%3D%3D?line=3'>4</a>\u001b[0m     dados[\u001b[39m'\u001b[39m\u001b[39mdata_hora\u001b[39m\u001b[39m'\u001b[39m] \u001b[39m=\u001b[39m \u001b[39mf\u001b[39m\u001b[39m\"\u001b[39m\u001b[39m{\u001b[39;00mdados[\u001b[39m'\u001b[39m\u001b[39mdata\u001b[39m\u001b[39m'\u001b[39m]\u001b[39m}\u001b[39;00m\u001b[39m \u001b[39m\u001b[39m{\u001b[39;00mdados[\u001b[39m'\u001b[39m\u001b[39mhora\u001b[39m\u001b[39m'\u001b[39m]\u001b[39m}\u001b[39;00m\u001b[39m\"\u001b[39m\n\u001b[1;32m----> <a href='vscode-notebook-cell:/c%3A/Users/yonix42/Desktop/analise_sentimentos_financeiro/infosBolsa.ipynb#X11sZmlsZQ%3D%3D?line=4'>5</a>\u001b[0m dados[\u001b[39m'\u001b[39m\u001b[39mdata_hora\u001b[39m\u001b[39m'\u001b[39m] \u001b[39m=\u001b[39m pd\u001b[39m.\u001b[39;49mto_datetime(dados[\u001b[39m'\u001b[39;49m\u001b[39mdata_hora\u001b[39;49m\u001b[39m'\u001b[39;49m], \u001b[39mformat\u001b[39;49m\u001b[39m=\u001b[39;49m\u001b[39m'\u001b[39;49m\u001b[39m%\u001b[39;49m\u001b[39mY-\u001b[39;49m\u001b[39m%\u001b[39;49m\u001b[39mm-\u001b[39;49m\u001b[39m%d\u001b[39;49;00m\u001b[39m \u001b[39;49m\u001b[39m%\u001b[39;49m\u001b[39mH:\u001b[39;49m\u001b[39m%\u001b[39;49m\u001b[39mM:\u001b[39;49m\u001b[39m%\u001b[39;49m\u001b[39mS\u001b[39;49m\u001b[39m'\u001b[39;49m)\n\u001b[0;32m      <a href='vscode-notebook-cell:/c%3A/Users/yonix42/Desktop/analise_sentimentos_financeiro/infosBolsa.ipynb#X11sZmlsZQ%3D%3D?line=6'>7</a>\u001b[0m \u001b[39mreturn\u001b[39;00m dados\u001b[39m.\u001b[39msort_values(\u001b[39m'\u001b[39m\u001b[39mdata_hora\u001b[39m\u001b[39m'\u001b[39m)\n",
      "File \u001b[1;32m~\\AppData\\Local\\Packages\\PythonSoftwareFoundation.Python.3.11_qbz5n2kfra8p0\\LocalCache\\local-packages\\Python311\\site-packages\\pandas\\core\\tools\\datetimes.py:1050\u001b[0m, in \u001b[0;36mto_datetime\u001b[1;34m(arg, errors, dayfirst, yearfirst, utc, format, exact, unit, infer_datetime_format, origin, cache)\u001b[0m\n\u001b[0;32m   1048\u001b[0m         result \u001b[39m=\u001b[39m arg\u001b[39m.\u001b[39mmap(cache_array)\n\u001b[0;32m   1049\u001b[0m     \u001b[39melse\u001b[39;00m:\n\u001b[1;32m-> 1050\u001b[0m         values \u001b[39m=\u001b[39m convert_listlike(arg\u001b[39m.\u001b[39;49m_values, \u001b[39mformat\u001b[39;49m)\n\u001b[0;32m   1051\u001b[0m         result \u001b[39m=\u001b[39m arg\u001b[39m.\u001b[39m_constructor(values, index\u001b[39m=\u001b[39marg\u001b[39m.\u001b[39mindex, name\u001b[39m=\u001b[39marg\u001b[39m.\u001b[39mname)\n\u001b[0;32m   1052\u001b[0m \u001b[39melif\u001b[39;00m \u001b[39misinstance\u001b[39m(arg, (ABCDataFrame, abc\u001b[39m.\u001b[39mMutableMapping)):\n",
      "File \u001b[1;32m~\\AppData\\Local\\Packages\\PythonSoftwareFoundation.Python.3.11_qbz5n2kfra8p0\\LocalCache\\local-packages\\Python311\\site-packages\\pandas\\core\\tools\\datetimes.py:453\u001b[0m, in \u001b[0;36m_convert_listlike_datetimes\u001b[1;34m(arg, format, name, utc, unit, errors, dayfirst, yearfirst, exact)\u001b[0m\n\u001b[0;32m    451\u001b[0m \u001b[39m# `format` could be inferred, or user didn't ask for mixed-format parsing.\u001b[39;00m\n\u001b[0;32m    452\u001b[0m \u001b[39mif\u001b[39;00m \u001b[39mformat\u001b[39m \u001b[39mis\u001b[39;00m \u001b[39mnot\u001b[39;00m \u001b[39mNone\u001b[39;00m \u001b[39mand\u001b[39;00m \u001b[39mformat\u001b[39m \u001b[39m!=\u001b[39m \u001b[39m\"\u001b[39m\u001b[39mmixed\u001b[39m\u001b[39m\"\u001b[39m:\n\u001b[1;32m--> 453\u001b[0m     \u001b[39mreturn\u001b[39;00m _array_strptime_with_fallback(arg, name, utc, \u001b[39mformat\u001b[39;49m, exact, errors)\n\u001b[0;32m    455\u001b[0m result, tz_parsed \u001b[39m=\u001b[39m objects_to_datetime64ns(\n\u001b[0;32m    456\u001b[0m     arg,\n\u001b[0;32m    457\u001b[0m     dayfirst\u001b[39m=\u001b[39mdayfirst,\n\u001b[1;32m   (...)\u001b[0m\n\u001b[0;32m    461\u001b[0m     allow_object\u001b[39m=\u001b[39m\u001b[39mTrue\u001b[39;00m,\n\u001b[0;32m    462\u001b[0m )\n\u001b[0;32m    464\u001b[0m \u001b[39mif\u001b[39;00m tz_parsed \u001b[39mis\u001b[39;00m \u001b[39mnot\u001b[39;00m \u001b[39mNone\u001b[39;00m:\n\u001b[0;32m    465\u001b[0m     \u001b[39m# We can take a shortcut since the datetime64 numpy array\u001b[39;00m\n\u001b[0;32m    466\u001b[0m     \u001b[39m# is in UTC\u001b[39;00m\n",
      "File \u001b[1;32m~\\AppData\\Local\\Packages\\PythonSoftwareFoundation.Python.3.11_qbz5n2kfra8p0\\LocalCache\\local-packages\\Python311\\site-packages\\pandas\\core\\tools\\datetimes.py:484\u001b[0m, in \u001b[0;36m_array_strptime_with_fallback\u001b[1;34m(arg, name, utc, fmt, exact, errors)\u001b[0m\n\u001b[0;32m    473\u001b[0m \u001b[39mdef\u001b[39;00m \u001b[39m_array_strptime_with_fallback\u001b[39m(\n\u001b[0;32m    474\u001b[0m     arg,\n\u001b[0;32m    475\u001b[0m     name,\n\u001b[1;32m   (...)\u001b[0m\n\u001b[0;32m    479\u001b[0m     errors: \u001b[39mstr\u001b[39m,\n\u001b[0;32m    480\u001b[0m ) \u001b[39m-\u001b[39m\u001b[39m>\u001b[39m Index:\n\u001b[0;32m    481\u001b[0m \u001b[39m    \u001b[39m\u001b[39m\"\"\"\u001b[39;00m\n\u001b[0;32m    482\u001b[0m \u001b[39m    Call array_strptime, with fallback behavior depending on 'errors'.\u001b[39;00m\n\u001b[0;32m    483\u001b[0m \u001b[39m    \"\"\"\u001b[39;00m\n\u001b[1;32m--> 484\u001b[0m     result, timezones \u001b[39m=\u001b[39m array_strptime(arg, fmt, exact\u001b[39m=\u001b[39;49mexact, errors\u001b[39m=\u001b[39;49merrors, utc\u001b[39m=\u001b[39;49mutc)\n\u001b[0;32m    485\u001b[0m     \u001b[39mif\u001b[39;00m \u001b[39many\u001b[39m(tz \u001b[39mis\u001b[39;00m \u001b[39mnot\u001b[39;00m \u001b[39mNone\u001b[39;00m \u001b[39mfor\u001b[39;00m tz \u001b[39min\u001b[39;00m timezones):\n\u001b[0;32m    486\u001b[0m         \u001b[39mreturn\u001b[39;00m _return_parsed_timezone_results(result, timezones, utc, name)\n",
      "File \u001b[1;32m~\\AppData\\Local\\Packages\\PythonSoftwareFoundation.Python.3.11_qbz5n2kfra8p0\\LocalCache\\local-packages\\Python311\\site-packages\\pandas\\_libs\\tslibs\\strptime.pyx:530\u001b[0m, in \u001b[0;36mpandas._libs.tslibs.strptime.array_strptime\u001b[1;34m()\u001b[0m\n",
      "File \u001b[1;32m~\\AppData\\Local\\Packages\\PythonSoftwareFoundation.Python.3.11_qbz5n2kfra8p0\\LocalCache\\local-packages\\Python311\\site-packages\\pandas\\_libs\\tslibs\\strptime.pyx:351\u001b[0m, in \u001b[0;36mpandas._libs.tslibs.strptime.array_strptime\u001b[1;34m()\u001b[0m\n",
      "\u001b[1;31mValueError\u001b[0m: time data \"0     04.10.2023\n1     01.10.2023\n2     27.09.2023\n3     22.09.2023\n4     19.09.2023\n5     14.09.2023\n6     11.09.2023\n7     07.09.2023\n8     04.09.2023\n9     31.08.2023\n10    28.08.2023\n11    25.08.2023\n12    22.08.2023\n13    18.08.2023\n14    15.08.2023\n15    10.08.2023\n16    05.08.2023\n17    02.08.2023\n18    27.07.2023\n19    24.07.2023\n20    21.07.2023\n21    18.07.2023\n22    14.07.2023\n23    11.07.2023\n24    07.07.2023\nName: data, dtype: object 0     07:55\n1     16:29\n2     09:17\n3     09:16\n4     17:40\n5     09:21\n6     22:12\n7     14:20\n8     21:02\n9     10:28\n10    08:28\n11    10:33\n12    20:26\n13    05:38\n14    16:33\n15    17:12\n16    05:41\n17    15:39\n18    16:03\n19    07:43\n20    16:23\n21    08:40\n22    11:29\n23    21:05\n24    13:44\nName: hora, dtype: object\" doesn't match format \"%Y-%m-%d %H:%M:%S\", at position 0. You might want to try:\n    - passing `format` if your strings have a consistent format;\n    - passing `format='ISO8601'` if your strings are all ISO8601 but not necessarily in exactly the same format;\n    - passing `format='mixed'`, and the format will be inferred for each element individually. You might want to use `dayfirst` alongside this."
     ]
    }
   ],
   "source": [
    "for empresa in empresas:\n",
    "    print(empresa)\n",
    "    df = extraiValoresBolsa(empresa)\n",
    "    df.to_csv(empresa + '.csv')"
   ]
  },
  {
   "cell_type": "code",
   "execution_count": null,
   "metadata": {},
   "outputs": [],
   "source": []
  }
 ],
 "metadata": {
  "kernelspec": {
   "display_name": "Python 3",
   "language": "python",
   "name": "python3"
  },
  "language_info": {
   "codemirror_mode": {
    "name": "ipython",
    "version": 3
   },
   "file_extension": ".py",
   "mimetype": "text/x-python",
   "name": "python",
   "nbconvert_exporter": "python",
   "pygments_lexer": "ipython3",
   "version": "3.11.6"
  },
  "orig_nbformat": 4
 },
 "nbformat": 4,
 "nbformat_minor": 2
}
