{
 "cells": [
  {
   "cell_type": "code",
   "execution_count": 87,
   "metadata": {},
   "outputs": [],
   "source": [
    "import yfinance as yf\n",
    "import pandas as pd\n",
    "from datetime import datetime\n",
    "from datetime import timedelta"
   ]
  },
  {
   "cell_type": "code",
   "execution_count": 132,
   "metadata": {},
   "outputs": [],
   "source": [
    "empresas = ['AMER3_2', 'MGLU3_2', 'PETR4_2']"
   ]
  },
  {
   "cell_type": "code",
   "execution_count": 133,
   "metadata": {},
   "outputs": [],
   "source": [
    "# for empresa in empresas:\n",
    "#     dados = pd.read_csv(empresa + '.csv', index_col='Unnamed: 0')\n",
    "\n",
    "#     dados['data_hora'] = dados['data'] + ' ' + dados['hora']\n",
    "#     dados['data_hora'] = dados['data_hora'].str.replace('.', '-')\n",
    "\n",
    "#     dados['data_hora'] = dados['data_hora']+\":00\"\n",
    "\n",
    "#     colunas = ['data_hora', 'url', 'titulo', 'texto']\n",
    "#     dados_tratados = dados[colunas]\n",
    "\n",
    "#     # print(dados_tratados.head())\n",
    "#     dados_tratados.to_csv(empresa + '.csv')\n"
   ]
  },
  {
   "cell_type": "code",
   "execution_count": 189,
   "metadata": {},
   "outputs": [
    {
     "name": "stdout",
     "output_type": "stream",
     "text": [
      "ERROR! Session/line number was not unique in database. History logging moved to new session 135\n"
     ]
    }
   ],
   "source": [
    "def getCsv(empresa):\n",
    "    dados = pd.read_csv(empresa + '.csv', index_col='Unnamed: 0')\n",
    "    \n",
    "    if empresa == 'AMER3_2':\n",
    "        dados['data_hora'] = pd.to_datetime(dados['data_hora'], dayfirst=True, format='%Y-%m-%d %H:%M:%S')\n",
    "    else:\n",
    "        dados['data_hora'] = pd.to_datetime(dados['data_hora'], dayfirst=True, format='%d-%m-%Y %H:%M:%S')\n",
    "\n",
    "    return dados.sort_values('data_hora')"
   ]
  },
  {
   "cell_type": "markdown",
   "metadata": {},
   "source": [
    "###################################################################################"
   ]
  },
  {
   "cell_type": "code",
   "execution_count": 216,
   "metadata": {},
   "outputs": [],
   "source": [
    "def getDadosBolsa(empresa, dataMax, dataMin):\n",
    "\n",
    "    dados = yf.Ticker(empresa + '.SA')\n",
    "    dados = dados.history(start=(dataMin - timedelta(days=7)), end=(dataMax + timedelta(days=7)), interval='1d')\n",
    "    dados.reset_index(inplace=True)\n",
    "    dados['data_hora'] = dados['Date']\n",
    "    dados.drop(columns=['Date'], inplace=True)\n",
    "    dados.set_index('data_hora', inplace=True)\n",
    "    return dados"
   ]
  },
  {
   "cell_type": "code",
   "execution_count": 217,
   "metadata": {},
   "outputs": [
    {
     "name": "stdout",
     "output_type": "stream",
     "text": [
      "<class 'pandas.core.frame.DataFrame'>\n",
      "Index: 25 entries, 24 to 0\n",
      "Data columns (total 12 columns):\n",
      " #   Column                 Non-Null Count  Dtype         \n",
      "---  ------                 --------------  -----         \n",
      " 0   data_hora              25 non-null     datetime64[ns]\n",
      " 1   url                    25 non-null     object        \n",
      " 2   titulo                 25 non-null     object        \n",
      " 3   texto                  25 non-null     object        \n",
      " 4   aberturaDiaAnterior    25 non-null     float64       \n",
      " 5   fechamentoDiaAnterior  25 non-null     float64       \n",
      " 6   aberturaDiaAtual       25 non-null     float64       \n",
      " 7   fechamentoDiaAtual     25 non-null     float64       \n",
      " 8   aberturaDiaSeguinte    25 non-null     float64       \n",
      " 9   fechamentoDiaSeguinte  25 non-null     float64       \n",
      " 10  abertura2Dias          25 non-null     float64       \n",
      " 11  fechamento2Dias        25 non-null     float64       \n",
      "dtypes: datetime64[ns](1), float64(8), object(3)\n",
      "memory usage: 2.5+ KB\n"
     ]
    }
   ],
   "source": [
    "df.info()"
   ]
  },
  {
   "cell_type": "code",
   "execution_count": 210,
   "metadata": {},
   "outputs": [],
   "source": [
    "def getDataMaisProxima(empresa, data):\n",
    "\n",
    "    datas = {\n",
    "                abs(data.timestamp() - date.timestamp()) : date for date in empresa.index}\n",
    "    \n",
    "    dataMaisProxima = datas[min(datas.keys())]\n",
    "\n",
    "    return dataMaisProxima - timedelta(days=1), dataMaisProxima, dataMaisProxima + timedelta(days=1), dataMaisProxima + timedelta(days=2)"
   ]
  },
  {
   "cell_type": "code",
   "execution_count": 229,
   "metadata": {},
   "outputs": [],
   "source": [
    "def getValores(dados, data):\n",
    "    try:\n",
    "        return dados.iloc[dados.index.get_loc(data)]\n",
    "\n",
    "    except KeyError:\n",
    "        return getValores(dados, data + timedelta(days=1))\n",
    "\n",
    "def montaDictValores(valores):\n",
    "    return {\n",
    "        'Abertura': valores.Open,\n",
    "        'Fechamento': valores.Close,\n",
    "    }\n",
    "\n",
    "def getValoresData(dados, data):\n",
    "    print(getValores(dados, data))\n",
    "    return montaDictValores(getValores(dados, data))"
   ]
  },
  {
   "cell_type": "code",
   "execution_count": 230,
   "metadata": {},
   "outputs": [
    {
     "data": {
      "text/plain": [
       "datetime.date(2023, 10, 7)"
      ]
     },
     "execution_count": 230,
     "metadata": {},
     "output_type": "execute_result"
    }
   ],
   "source": [
    "datetime.today().date()"
   ]
  },
  {
   "cell_type": "code",
   "execution_count": 231,
   "metadata": {},
   "outputs": [],
   "source": [
    "def extraiValoresBolsa(empresa):\n",
    "    df = getCsv(empresa)\n",
    "    if '_' in empresa:\n",
    "        dados_bolsa = getDadosBolsa(empresa[:-2], df['data_hora'].max(), df['data_hora'].min())\n",
    "    else:\n",
    "        dados_bolsa = getDadosBolsa(empresa, df['data_hora'].max(), df['data_hora'].min())\n",
    "\n",
    "    aberturaDiaAnterior = []\n",
    "    aberturaDiaAtual = []\n",
    "    aberturaDiaSeguinte = []\n",
    "    abertura2Dias = []\n",
    "\n",
    "    fechamentoDiaAnterior = []\n",
    "    fechamentoDiaAtual = []\n",
    "    fechamentoDiaSeguinte = []\n",
    "    fechamento2Dias = []\n",
    "\n",
    "    print(df.shape)\n",
    "    i = 0\n",
    "    for data in df['data_hora']:\n",
    "        \n",
    "        diaAnterior, dataAtual, dataSeguinte, dia2 = getDataMaisProxima(dados_bolsa, data)\n",
    "\n",
    "        valores = getValoresData(dados_bolsa, diaAnterior)\n",
    "        aberturaDiaAnterior.append(valores['Abertura'])\n",
    "        fechamentoDiaAnterior.append(valores['Fechamento'])\n",
    "\n",
    "        valores = getValoresData(dados_bolsa, dataAtual)\n",
    "        aberturaDiaAtual.append(valores['Abertura'])\n",
    "        fechamentoDiaAtual.append(valores['Fechamento'])\n",
    "\n",
    "        # print(dataSeguinte)\n",
    "        valores = getValoresData(dados_bolsa, dataSeguinte)\n",
    "        # print(valores)\n",
    "        aberturaDiaSeguinte.append(valores['Abertura'])\n",
    "        fechamentoDiaSeguinte.append(valores['Fechamento'])\n",
    "        # print(i)\n",
    "        # i += 1\n",
    "        \n",
    "        valores = getValoresData(dados_bolsa, dia2)\n",
    "        abertura2Dias.append(valores['Abertura'])\n",
    "        fechamento2Dias.append(valores['Fechamento'])\n",
    "\n",
    "        \n",
    "\n",
    "    print('cheguei aqui') \n",
    "    \n",
    "    df['aberturaDiaAnterior'] = aberturaDiaAnterior\n",
    "    df['fechamentoDiaAnterior'] = fechamentoDiaAnterior\n",
    "\n",
    "    df['aberturaDiaAtual'] = aberturaDiaAtual\n",
    "    df['fechamentoDiaAtual'] = fechamentoDiaAtual\n",
    "\n",
    "    df['aberturaDiaSeguinte'] = aberturaDiaSeguinte\n",
    "    df['fechamentoDiaSeguinte'] = fechamentoDiaSeguinte\n",
    "\n",
    "    df['abertura2Dias'] = abertura2Dias\n",
    "    df['fechamento2Dias'] = fechamento2Dias\n",
    "\n",
    "    return df"
   ]
  },
  {
   "cell_type": "code",
   "execution_count": null,
   "metadata": {},
   "outputs": [],
   "source": [
    "for empresa in empresas:\n",
    "    print(empresa)\n",
    "    df = extraiValoresBolsa(empresa)\n",
    "    df.to_csv(empresa + '.csv')"
   ]
  },
  {
   "cell_type": "code",
   "execution_count": null,
   "metadata": {},
   "outputs": [],
   "source": [
    "dfm = extraiValoresBolsa(empresas[1])\n",
    "dfm.head()  "
   ]
  },
  {
   "cell_type": "code",
   "execution_count": null,
   "metadata": {},
   "outputs": [],
   "source": []
  },
  {
   "cell_type": "code",
   "execution_count": null,
   "metadata": {},
   "outputs": [],
   "source": []
  }
 ],
 "metadata": {
  "kernelspec": {
   "display_name": "Python 3",
   "language": "python",
   "name": "python3"
  },
  "language_info": {
   "codemirror_mode": {
    "name": "ipython",
    "version": 3
   },
   "file_extension": ".py",
   "mimetype": "text/x-python",
   "name": "python",
   "nbconvert_exporter": "python",
   "pygments_lexer": "ipython3",
   "version": "3.11.5"
  },
  "orig_nbformat": 4
 },
 "nbformat": 4,
 "nbformat_minor": 2
}
