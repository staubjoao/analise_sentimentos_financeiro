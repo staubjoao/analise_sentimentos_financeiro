{
 "cells": [
  {
   "cell_type": "code",
   "execution_count": 138,
   "metadata": {},
   "outputs": [],
   "source": [
    "import yfinance as yf\n",
    "import pandas as pd\n",
    "from datetime import datetime\n",
    "from datetime import timedelta"
   ]
  },
  {
   "cell_type": "code",
   "execution_count": 139,
   "metadata": {},
   "outputs": [],
   "source": [
    "empresas = ['AMER3_2', 'MGLU3_2', 'PETR4_2']"
   ]
  },
  {
   "cell_type": "code",
   "execution_count": 140,
   "metadata": {},
   "outputs": [],
   "source": [
    "# for empresa in empresas:\n",
    "#     dados = pd.read_csv(empresa + '.csv', index_col='Unnamed: 0')\n",
    "\n",
    "#     dados['data_hora'] = dados['data'] + ' ' + dados['hora']\n",
    "#     dados['data_hora'] = dados['data_hora'].str.replace('.', '-')\n",
    "\n",
    "#     dados['data_hora'] = dados['data_hora']+\":00\"\n",
    "\n",
    "#     colunas = ['data_hora', 'url', 'titulo', 'texto']\n",
    "#     dados_tratados = dados[colunas]\n",
    "\n",
    "#     # print(dados_tratados.head())\n",
    "#     dados_tratados.to_csv(empresa + '.csv')\n"
   ]
  },
  {
   "cell_type": "code",
   "execution_count": 141,
   "metadata": {},
   "outputs": [],
   "source": [
    "def getCsv(empresa):\n",
    "    dados = pd.read_csv(empresa + '.csv', index_col='Unnamed: 0')\n",
    "    # dados['data_hora'] = pd.to_datetime(dados['data_hora'], format='%Y-%m-%d %H:%M:%S')\n",
    "    dados['data_hora'] = pd.to_datetime(dados['data_hora'], format='%d-%m-%Y %H:%M:%S')\n",
    "\n",
    "    return dados.sort_values('data_hora')"
   ]
  },
  {
   "cell_type": "markdown",
   "metadata": {},
   "source": [
    "###################################################################################"
   ]
  },
  {
   "cell_type": "code",
   "execution_count": 142,
   "metadata": {},
   "outputs": [],
   "source": [
    "def getDadosBolsa(empresa, dataMax, dataMin):\n",
    "\n",
    "    dados = yf.Ticker(empresa + '.SA')\n",
    "    dados = dados.history(start=(dataMin - timedelta(days=2)), end=(dataMax + timedelta(days=7)), interval='1d')\n",
    "    dados.reset_index(inplace=True)\n",
    "    dados['data_hora'] = dados['Date']\n",
    "    dados.drop(columns=['Date'], inplace=True)\n",
    "    dados.set_index('data_hora', inplace=True)\n",
    "    return dados"
   ]
  },
  {
   "cell_type": "code",
   "execution_count": 143,
   "metadata": {},
   "outputs": [],
   "source": [
    "def getDataMaisProxima(empresa, data):\n",
    "\n",
    "    datas = {\n",
    "                abs(data.timestamp() - date.timestamp()) : date for date in empresa.index}\n",
    "    \n",
    "    dataMaisProxima = datas[min(datas.keys())]\n",
    "\n",
    "    return dataMaisProxima - timedelta(days=1), dataMaisProxima, dataMaisProxima + timedelta(days=1), dataMaisProxima + timedelta(days=2)"
   ]
  },
  {
   "cell_type": "code",
   "execution_count": 144,
   "metadata": {},
   "outputs": [],
   "source": [
    "def getValores(dados, data):\n",
    "    try:\n",
    "        return dados.iloc[dados.index.get_loc(data)]\n",
    "\n",
    "    except KeyError:\n",
    "        return getValores(dados, data + timedelta(days=1))\n",
    "\n",
    "def montaDictValores(valores):\n",
    "    return {\n",
    "        'Abertura': valores.Open,\n",
    "        'Fechamento': valores.Close,\n",
    "    }\n",
    "\n",
    "def getValoresData(dados, data):\n",
    "    return montaDictValores(getValores(dados, data))"
   ]
  },
  {
   "cell_type": "code",
   "execution_count": 145,
   "metadata": {},
   "outputs": [],
   "source": [
    "def extraiValoresBolsa(empresa):\n",
    "    df = getCsv(empresa)\n",
    "    \n",
    "    dados_bolsa = getDadosBolsa(empresa, df['data_hora'].max(), df['data_hora'].min())\n",
    "\n",
    "    aberturaDiaAnterior = []\n",
    "    aberturaDiaAtual = []\n",
    "    aberturaDiaSeguinte = []\n",
    "    abertura2Dias = []\n",
    "\n",
    "    fechamentoDiaAnterior = []\n",
    "    fechamentoDiaAtual = []\n",
    "    fechamentoDiaSeguinte = []\n",
    "    fechamento2Dias = []\n",
    "\n",
    "    for data in df['data_hora']:\n",
    "        diaAnterior, dataAtual, dataSeguinte, dia2 = getDataMaisProxima(dados_bolsa, data)\n",
    "\n",
    "        valores = getValoresData(dados_bolsa, diaAnterior)\n",
    "        aberturaDiaAnterior.append(valores['Abertura'])\n",
    "        fechamentoDiaAnterior.append(valores['Fechamento'])\n",
    "\n",
    "        valores = getValoresData(dados_bolsa, dataAtual)\n",
    "        aberturaDiaAtual.append(valores['Abertura'])\n",
    "        fechamentoDiaAtual.append(valores['Fechamento'])\n",
    "\n",
    "        valores = getValoresData(dados_bolsa, dataSeguinte)\n",
    "        aberturaDiaSeguinte.append(valores['Abertura'])\n",
    "        fechamentoDiaSeguinte.append(valores['Fechamento'])\n",
    "        \n",
    "        \n",
    "        valores = getValoresData(dados_bolsa, dia2)\n",
    "        abertura2Dias.append(valores['Abertura'])\n",
    "        fechamento2Dias.append(valores['Fechamento'])\n",
    "        \n",
    "    df['aberturaDiaAnterior'] = aberturaDiaAnterior\n",
    "    df['fechamentoDiaAnterior'] = fechamentoDiaAnterior\n",
    "\n",
    "    df['aberturaDiaAtual'] = aberturaDiaAtual\n",
    "    df['fechamentoDiaAtual'] = fechamentoDiaAtual\n",
    "\n",
    "    df['aberturaDiaSeguinte'] = aberturaDiaSeguinte\n",
    "    df['fechamentoDiaSeguinte'] = fechamentoDiaSeguinte\n",
    "\n",
    "    df['abertura2Dias'] = abertura2Dias\n",
    "    df['fechamento2Dias'] = fechamento2Dias\n",
    "\n",
    "    return df"
   ]
  },
  {
   "cell_type": "code",
   "execution_count": 146,
   "metadata": {},
   "outputs": [
    {
     "name": "stdout",
     "output_type": "stream",
     "text": [
      "AMER3_2\n"
     ]
    },
    {
     "name": "stderr",
     "output_type": "stream",
     "text": [
      "AMER3_2.SA: No timezone found, symbol may be delisted\n"
     ]
    },
    {
     "ename": "ValueError",
     "evalue": "min() arg is an empty sequence",
     "output_type": "error",
     "traceback": [
      "\u001b[0;31m---------------------------------------------------------------------------\u001b[0m",
      "\u001b[0;31mValueError\u001b[0m                                Traceback (most recent call last)",
      "\u001b[1;32m/home/ynx/Desktop/UEM/analise_sentimentos_financeiro/infosBolsa.ipynb Célula 10\u001b[0m line \u001b[0;36m3\n\u001b[1;32m      <a href='vscode-notebook-cell:/home/ynx/Desktop/UEM/analise_sentimentos_financeiro/infosBolsa.ipynb#X11sZmlsZQ%3D%3D?line=0'>1</a>\u001b[0m \u001b[39mfor\u001b[39;00m empresa \u001b[39min\u001b[39;00m empresas:\n\u001b[1;32m      <a href='vscode-notebook-cell:/home/ynx/Desktop/UEM/analise_sentimentos_financeiro/infosBolsa.ipynb#X11sZmlsZQ%3D%3D?line=1'>2</a>\u001b[0m     \u001b[39mprint\u001b[39m(empresa)\n\u001b[0;32m----> <a href='vscode-notebook-cell:/home/ynx/Desktop/UEM/analise_sentimentos_financeiro/infosBolsa.ipynb#X11sZmlsZQ%3D%3D?line=2'>3</a>\u001b[0m     df \u001b[39m=\u001b[39m extraiValoresBolsa(empresa)\n\u001b[1;32m      <a href='vscode-notebook-cell:/home/ynx/Desktop/UEM/analise_sentimentos_financeiro/infosBolsa.ipynb#X11sZmlsZQ%3D%3D?line=3'>4</a>\u001b[0m     df\u001b[39m.\u001b[39mhead()\n\u001b[1;32m      <a href='vscode-notebook-cell:/home/ynx/Desktop/UEM/analise_sentimentos_financeiro/infosBolsa.ipynb#X11sZmlsZQ%3D%3D?line=4'>5</a>\u001b[0m     df\u001b[39m.\u001b[39mto_csv(empresa \u001b[39m+\u001b[39m \u001b[39m'\u001b[39m\u001b[39m.csv\u001b[39m\u001b[39m'\u001b[39m)\n",
      "\u001b[1;32m/home/ynx/Desktop/UEM/analise_sentimentos_financeiro/infosBolsa.ipynb Célula 10\u001b[0m line \u001b[0;36m1\n\u001b[1;32m     <a href='vscode-notebook-cell:/home/ynx/Desktop/UEM/analise_sentimentos_financeiro/infosBolsa.ipynb#X11sZmlsZQ%3D%3D?line=13'>14</a>\u001b[0m fechamento2Dias \u001b[39m=\u001b[39m []\n\u001b[1;32m     <a href='vscode-notebook-cell:/home/ynx/Desktop/UEM/analise_sentimentos_financeiro/infosBolsa.ipynb#X11sZmlsZQ%3D%3D?line=15'>16</a>\u001b[0m \u001b[39mfor\u001b[39;00m data \u001b[39min\u001b[39;00m df[\u001b[39m'\u001b[39m\u001b[39mdata_hora\u001b[39m\u001b[39m'\u001b[39m]:\n\u001b[0;32m---> <a href='vscode-notebook-cell:/home/ynx/Desktop/UEM/analise_sentimentos_financeiro/infosBolsa.ipynb#X11sZmlsZQ%3D%3D?line=16'>17</a>\u001b[0m     diaAnterior, dataAtual, dataSeguinte, dia2 \u001b[39m=\u001b[39m getDataMaisProxima(dados_bolsa, data)\n\u001b[1;32m     <a href='vscode-notebook-cell:/home/ynx/Desktop/UEM/analise_sentimentos_financeiro/infosBolsa.ipynb#X11sZmlsZQ%3D%3D?line=18'>19</a>\u001b[0m     valores \u001b[39m=\u001b[39m getValoresData(dados_bolsa, diaAnterior)\n\u001b[1;32m     <a href='vscode-notebook-cell:/home/ynx/Desktop/UEM/analise_sentimentos_financeiro/infosBolsa.ipynb#X11sZmlsZQ%3D%3D?line=19'>20</a>\u001b[0m     aberturaDiaAnterior\u001b[39m.\u001b[39mappend(valores[\u001b[39m'\u001b[39m\u001b[39mAbertura\u001b[39m\u001b[39m'\u001b[39m])\n",
      "\u001b[1;32m/home/ynx/Desktop/UEM/analise_sentimentos_financeiro/infosBolsa.ipynb Célula 10\u001b[0m line \u001b[0;36m6\n\u001b[1;32m      <a href='vscode-notebook-cell:/home/ynx/Desktop/UEM/analise_sentimentos_financeiro/infosBolsa.ipynb#X11sZmlsZQ%3D%3D?line=0'>1</a>\u001b[0m \u001b[39mdef\u001b[39;00m \u001b[39mgetDataMaisProxima\u001b[39m(empresa, data):\n\u001b[1;32m      <a href='vscode-notebook-cell:/home/ynx/Desktop/UEM/analise_sentimentos_financeiro/infosBolsa.ipynb#X11sZmlsZQ%3D%3D?line=2'>3</a>\u001b[0m     datas \u001b[39m=\u001b[39m {\n\u001b[1;32m      <a href='vscode-notebook-cell:/home/ynx/Desktop/UEM/analise_sentimentos_financeiro/infosBolsa.ipynb#X11sZmlsZQ%3D%3D?line=3'>4</a>\u001b[0m                 \u001b[39mabs\u001b[39m(data\u001b[39m.\u001b[39mtimestamp() \u001b[39m-\u001b[39m date\u001b[39m.\u001b[39mtimestamp()) : date \u001b[39mfor\u001b[39;00m date \u001b[39min\u001b[39;00m empresa\u001b[39m.\u001b[39mindex}\n\u001b[0;32m----> <a href='vscode-notebook-cell:/home/ynx/Desktop/UEM/analise_sentimentos_financeiro/infosBolsa.ipynb#X11sZmlsZQ%3D%3D?line=5'>6</a>\u001b[0m     dataMaisProxima \u001b[39m=\u001b[39m datas[\u001b[39mmin\u001b[39;49m(datas\u001b[39m.\u001b[39;49mkeys())]\n\u001b[1;32m      <a href='vscode-notebook-cell:/home/ynx/Desktop/UEM/analise_sentimentos_financeiro/infosBolsa.ipynb#X11sZmlsZQ%3D%3D?line=7'>8</a>\u001b[0m     \u001b[39mreturn\u001b[39;00m dataMaisProxima \u001b[39m-\u001b[39m timedelta(days\u001b[39m=\u001b[39m\u001b[39m1\u001b[39m), dataMaisProxima, dataMaisProxima \u001b[39m+\u001b[39m timedelta(days\u001b[39m=\u001b[39m\u001b[39m1\u001b[39m), dataMaisProxima \u001b[39m+\u001b[39m timedelta(days\u001b[39m=\u001b[39m\u001b[39m2\u001b[39m)\n",
      "\u001b[0;31mValueError\u001b[0m: min() arg is an empty sequence"
     ]
    }
   ],
   "source": [
    "for empresa in empresas:\n",
    "    print(empresa)\n",
    "    df = extraiValoresBolsa(empresa)\n",
    "    df.head()\n",
    "    df.to_csv(empresa + '.csv')"
   ]
  },
  {
   "cell_type": "code",
   "execution_count": null,
   "metadata": {},
   "outputs": [],
   "source": []
  }
 ],
 "metadata": {
  "kernelspec": {
   "display_name": "Python 3",
   "language": "python",
   "name": "python3"
  },
  "language_info": {
   "codemirror_mode": {
    "name": "ipython",
    "version": 3
   },
   "file_extension": ".py",
   "mimetype": "text/x-python",
   "name": "python",
   "nbconvert_exporter": "python",
   "pygments_lexer": "ipython3",
   "version": "3.10.12"
  },
  "orig_nbformat": 4
 },
 "nbformat": 4,
 "nbformat_minor": 2
}
