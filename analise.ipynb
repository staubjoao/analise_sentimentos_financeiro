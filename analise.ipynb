{
 "cells": [
  {
   "cell_type": "code",
   "execution_count": 22,
   "metadata": {},
   "outputs": [
    {
     "name": "stderr",
     "output_type": "stream",
     "text": [
      "[nltk_data] Downloading package rslp to /home/ynx/nltk_data...\n",
      "[nltk_data]   Package rslp is already up-to-date!\n",
      "[nltk_data] Downloading package wordnet to /home/ynx/nltk_data...\n"
     ]
    }
   ],
   "source": [
    "import pandas as pd\n",
    "import nltk\n",
    "nltk.download('rslp')\n",
    "nltk.download('wordnet')\n",
    "from nltk.stem import WordNetLemmatizer"
   ]
  },
  {
   "cell_type": "code",
   "execution_count": 23,
   "metadata": {},
   "outputs": [
    {
     "data": {
      "text/plain": [
       "(359, 7)"
      ]
     },
     "execution_count": 23,
     "metadata": {},
     "output_type": "execute_result"
    }
   ],
   "source": [
    "df = pd.read_csv('./dados_treino_final_sem_neutro_ajustado.csv', sep=';')\n",
    "df.shape"
   ]
  },
  {
   "cell_type": "code",
   "execution_count": 24,
   "metadata": {},
   "outputs": [],
   "source": [
    "token_espaco=nltk.tokenize.WhitespaceTokenizer()\n",
    "frase_processada=list()\n",
    "for noticia in df.texto_noticia:\n",
    "    nova_frase=list()\n",
    "    palavras_texto=token_espaco.tokenize(noticia)"
   ]
  },
  {
   "cell_type": "code",
   "execution_count": 25,
   "metadata": {},
   "outputs": [],
   "source": [
    "stemmer = nltk.RSLPStemmer()\n",
    "for palavra in palavras_texto:\n",
    "    nova_frase.append(stemmer.stem(palavra))\n",
    "    frase_processada.append(\" \".join(nova_frase))\n",
    "wordnet_lemmatizer = WordNetLemmatizer()\n",
    "for palavra in palavras_texto:\n",
    "    nova_frase.append(wordnet_lemmatizer.lemmatize(palavra))\n",
    "    frase_processada.append(\" \".join(nova_frase))"
   ]
  },
  {
   "cell_type": "code",
   "execution_count": 27,
   "metadata": {},
   "outputs": [
    {
     "ename": "NameError",
     "evalue": "name 'texto' is not defined",
     "output_type": "error",
     "traceback": [
      "\u001b[0;31m---------------------------------------------------------------------------\u001b[0m",
      "\u001b[0;31mNameError\u001b[0m                                 Traceback (most recent call last)",
      "\u001b[1;32m/home/ynx/Desktop/UEM/analise_sentimentos_financeiro/analise.ipynb Célula 5\u001b[0m line \u001b[0;36m3\n\u001b[1;32m      <a href='vscode-notebook-cell:/home/ynx/Desktop/UEM/analise_sentimentos_financeiro/analise.ipynb#W5sZmlsZQ%3D%3D?line=0'>1</a>\u001b[0m \u001b[39mfrom\u001b[39;00m \u001b[39msklearn\u001b[39;00m\u001b[39m.\u001b[39;00m\u001b[39mfeature_extraction\u001b[39;00m\u001b[39m.\u001b[39;00m\u001b[39mtext\u001b[39;00m \u001b[39mimport\u001b[39;00m CountVectorizer\n\u001b[1;32m      <a href='vscode-notebook-cell:/home/ynx/Desktop/UEM/analise_sentimentos_financeiro/analise.ipynb#W5sZmlsZQ%3D%3D?line=1'>2</a>\u001b[0m vetorizar\u001b[39m=\u001b[39mCountVectorizer(max_features\u001b[39m=\u001b[39m\u001b[39m50\u001b[39m)\n\u001b[0;32m----> <a href='vscode-notebook-cell:/home/ynx/Desktop/UEM/analise_sentimentos_financeiro/analise.ipynb#W5sZmlsZQ%3D%3D?line=2'>3</a>\u001b[0m bag_of_words\u001b[39m=\u001b[39mvetorizar\u001b[39m.\u001b[39mfit_transform(texto[coluna_texto])\n",
      "\u001b[0;31mNameError\u001b[0m: name 'texto' is not defined"
     ]
    }
   ],
   "source": [
    "from sklearn.feature_extraction.text import CountVectorizer\n",
    "vetorizar=CountVectorizer(max_features=50)\n",
    "bag_of_words=vetorizar.fit_transform(texto[coluna_texto])"
   ]
  },
  {
   "cell_type": "code",
   "execution_count": null,
   "metadata": {},
   "outputs": [],
   "source": [
    "def pareto(texto, coluna_texto, quantidade):\n",
    "    todas_palavras=' '.join([texto for texto in   texto[coluna_texto]])\n",
    "    frequencia = nltk.FreqDist(token_espaco.tokenize(todas_palavras))\n",
    "    df_frequencia=pd.DataFrame({'Palavra':list(frequencia.keys()),\n",
    "    \"Frequencia\":list(frequencia.values())})\n",
    "    plt.figure(figsize=(12,8))\n",
    "    ax=sns.barplot(data=df_frequencia.nlargest(columns=\"Frequencia\",  n=10), x=\"Palavra\", y=\"Frequencia\", color=\"gray\")\n",
    "    ax.set(ylabel=\"Contagem\")\n",
    "    plt.show()"
   ]
  }
 ],
 "metadata": {
  "kernelspec": {
   "display_name": "Python 3",
   "language": "python",
   "name": "python3"
  },
  "language_info": {
   "codemirror_mode": {
    "name": "ipython",
    "version": 3
   },
   "file_extension": ".py",
   "mimetype": "text/x-python",
   "name": "python",
   "nbconvert_exporter": "python",
   "pygments_lexer": "ipython3",
   "version": "3.10.12"
  },
  "orig_nbformat": 4
 },
 "nbformat": 4,
 "nbformat_minor": 2
}
