{
 "cells": [
  {
   "cell_type": "code",
   "execution_count": 53,
   "metadata": {},
   "outputs": [
    {
     "name": "stderr",
     "output_type": "stream",
     "text": [
      "[nltk_data] Downloading package vader_lexicon to\n",
      "[nltk_data]     /home/ynx/nltk_data...\n",
      "[nltk_data]   Package vader_lexicon is already up-to-date!\n",
      "[nltk_data] Downloading package rslp to /home/ynx/nltk_data...\n",
      "[nltk_data]   Package rslp is already up-to-date!\n",
      "[nltk_data] Downloading package wordnet to /home/ynx/nltk_data...\n",
      "[nltk_data]   Package wordnet is already up-to-date!\n"
     ]
    },
    {
     "data": {
      "text/plain": [
       "True"
      ]
     },
     "execution_count": 53,
     "metadata": {},
     "output_type": "execute_result"
    }
   ],
   "source": [
    "import nltk\n",
    "import pandas as pd\n",
    "from nltk.stem import WordNetLemmatizer\n",
    "from leia import SentimentIntensityAnalyzer\n",
    "from nltk import tokenize\n",
    "from sklearn.feature_extraction.text import CountVectorizer\n",
    "import matplotlib.pyplot as plt\n",
    "import unicodedata\n",
    "import re\n",
    "from nltk.tokenize import word_tokenize\n",
    "from nltk.util import ngrams\n",
    "from PortugueseLemmatizer import PortugueseMess\n",
    "\n",
    "nltk.download('vader_lexicon')\n",
    "nltk.download('rslp')\n",
    "nltk.download('wordnet')"
   ]
  },
  {
   "cell_type": "code",
   "execution_count": 41,
   "metadata": {},
   "outputs": [],
   "source": [
    "dados = pd.read_csv(\"./MGLU3.csv\")"
   ]
  },
  {
   "cell_type": "code",
   "execution_count": 38,
   "metadata": {},
   "outputs": [],
   "source": [
    "\n",
    "def combinar_paragrafos(texto_lista):\n",
    "    texto = ' '.join(texto_lista.strip(\"[]\").replace(\"'\", \"\").split(\", \"))\n",
    "    texto = texto.lower()\n",
    "    return texto\n",
    "\n",
    "def remove_stop_words(texto):\n",
    "    stopwords = spacy.lang.pt.stop_words.STOP_WORDS\n",
    "    retorno = []\n",
    "    for p in texto:\n",
    "        if p not in stopwords:\n",
    "            retorno.append(p)\n",
    "    return retorno\n",
    "\n",
    "def remove_pontuacao(texto):\n",
    "    retorno = []\n",
    "    for token in texto:\n",
    "        token = re.sub(r'[^a-zA-Z0-9\\s]', '', token)\n",
    "        token = unicodedata.normalize('NFD', token).encode('ascii', 'ignore').decode('utf-8')\n",
    "        retorno.append(token)\n",
    "    retorno = list(filter(None, retorno))\n",
    "    return retorno\n",
    "\n",
    "def analisar_sentimento(texto):\n",
    "    analisador = SentimentIntensityAnalyzer()\n",
    "    \n",
    "    if type(texto) == list:\n",
    "        texto = \" \".join(texto)\n",
    "    return analisador.polarity_scores(texto)['compound'] \n",
    "\n",
    "def tokenizacao_lemmatizer(texto):\n",
    "    tokens = word_tokenize(texto)\n",
    "    palavras_lemmatizadas = [PortugueseMess(w) for w in tokens]\n",
    "    return palavras_lemmatizadas\n",
    "\n",
    "def retornar_sentimento(sentimento):\n",
    "    if sentimento >= 0.05:\n",
    "        return 'positivo'\n",
    "    elif sentimento <= -0.05:\n",
    "        return 'negativo'\n",
    "    else:\n",
    "        return 'neutro'"
   ]
  },
  {
   "cell_type": "code",
   "execution_count": 42,
   "metadata": {},
   "outputs": [
    {
     "data": {
      "text/html": [
       "<div>\n",
       "<style scoped>\n",
       "    .dataframe tbody tr th:only-of-type {\n",
       "        vertical-align: middle;\n",
       "    }\n",
       "\n",
       "    .dataframe tbody tr th {\n",
       "        vertical-align: top;\n",
       "    }\n",
       "\n",
       "    .dataframe thead th {\n",
       "        text-align: right;\n",
       "    }\n",
       "</style>\n",
       "<table border=\"1\" class=\"dataframe\">\n",
       "  <thead>\n",
       "    <tr style=\"text-align: right;\">\n",
       "      <th></th>\n",
       "      <th>Unnamed: 0</th>\n",
       "      <th>url</th>\n",
       "      <th>titulo</th>\n",
       "      <th>data</th>\n",
       "      <th>hora</th>\n",
       "      <th>texto</th>\n",
       "      <th>sent_proc_cru</th>\n",
       "      <th>proc_1</th>\n",
       "      <th>proc_2</th>\n",
       "      <th>proc_3</th>\n",
       "      <th>sent_proc_3</th>\n",
       "      <th>sent_cru_texto</th>\n",
       "      <th>sent_proc_3_texto</th>\n",
       "    </tr>\n",
       "  </thead>\n",
       "  <tbody>\n",
       "    <tr>\n",
       "      <th>0</th>\n",
       "      <td>0</td>\n",
       "      <td>https://br.investing.com/news/stock-market-new...</td>\n",
       "      <td>WhatsApp lança recurso \"Flows\" para compras e ...</td>\n",
       "      <td>20.09.2023</td>\n",
       "      <td>15:35</td>\n",
       "      <td>por patricia vilas boas são paulo (reuters) - ...</td>\n",
       "      <td>0.9127</td>\n",
       "      <td>[por, patric, vila, bom, ser, paul, (, reut, )...</td>\n",
       "      <td>[patric, vila, paul, (, reut, ), -, whatsapp, ...</td>\n",
       "      <td>[patric, vila, paul, reut, whatsapp, anunciar,...</td>\n",
       "      <td>-0.7579</td>\n",
       "      <td>positivo</td>\n",
       "      <td>negativo</td>\n",
       "    </tr>\n",
       "    <tr>\n",
       "      <th>1</th>\n",
       "      <td>1</td>\n",
       "      <td>https://br.investing.com/news/politics/janja-e...</td>\n",
       "      <td>Janja e ministras participam de encontro de mu...</td>\n",
       "      <td>18.09.2023</td>\n",
       "      <td>18:04</td>\n",
       "      <td>a primeira-dama janja lula da silva participou...</td>\n",
       "      <td>0.3802</td>\n",
       "      <td>[o, primeira-dam, janj, lul, da, silvar, parti...</td>\n",
       "      <td>[primeira-dam, janj, lul, silvar, participar, ...</td>\n",
       "      <td>[primeiradam, janj, lul, silvar, participar, e...</td>\n",
       "      <td>0.5719</td>\n",
       "      <td>positivo</td>\n",
       "      <td>positivo</td>\n",
       "    </tr>\n",
       "    <tr>\n",
       "      <th>2</th>\n",
       "      <td>2</td>\n",
       "      <td>https://br.investing.com/news/stock-market-new...</td>\n",
       "      <td>À espera de Copom e Fed, Ibovespa inicia seman...</td>\n",
       "      <td>18.09.2023</td>\n",
       "      <td>14:44</td>\n",
       "      <td>o ibovespa perdeu força e não conseguiu susten...</td>\n",
       "      <td>-0.9022</td>\n",
       "      <td>[o, ibovesp, perder, forçar, e, não, conseguir...</td>\n",
       "      <td>[ibovesp, perder, forçar, conseguir, sustent, ...</td>\n",
       "      <td>[ibovesp, perder, forar, conseguir, sustent, l...</td>\n",
       "      <td>-0.6908</td>\n",
       "      <td>negativo</td>\n",
       "      <td>negativo</td>\n",
       "    </tr>\n",
       "    <tr>\n",
       "      <th>3</th>\n",
       "      <td>3</td>\n",
       "      <td>https://br.investing.com/news/economy/fortuna-...</td>\n",
       "      <td>Fortuna de bilionários brasileiros equivale a ...</td>\n",
       "      <td>15.09.2023</td>\n",
       "      <td>14:10</td>\n",
       "      <td>o patrimônio dos 280 bilionários brasileiros l...</td>\n",
       "      <td>0.1531</td>\n",
       "      <td>[o, patrimôni, do, 280, bilionário, brasileiro...</td>\n",
       "      <td>[patrimôni, 280, bilionário, brasileiro, lista...</td>\n",
       "      <td>[patrimni, 280, bilionrio, brasileiro, listado...</td>\n",
       "      <td>-0.5106</td>\n",
       "      <td>positivo</td>\n",
       "      <td>negativo</td>\n",
       "    </tr>\n",
       "    <tr>\n",
       "      <th>4</th>\n",
       "      <td>4</td>\n",
       "      <td>https://br.investing.com/news/stock-market-new...</td>\n",
       "      <td>Ibovespa avança com exterior ajudando Vale e P...</td>\n",
       "      <td>14.09.2023</td>\n",
       "      <td>11:49</td>\n",
       "      <td>por paula arend laier são paulo (reuters) - o ...</td>\n",
       "      <td>-0.0258</td>\n",
       "      <td>[por, paul, arend, lai, ser, paul, (, reut, ),...</td>\n",
       "      <td>[paul, arend, lai, paul, (, reut, ), -, iboves...</td>\n",
       "      <td>[paul, arend, lai, paul, reut, ibovesp, avanar...</td>\n",
       "      <td>-0.2500</td>\n",
       "      <td>neutro</td>\n",
       "      <td>negativo</td>\n",
       "    </tr>\n",
       "  </tbody>\n",
       "</table>\n",
       "</div>"
      ],
      "text/plain": [
       "   Unnamed: 0                                                url  \\\n",
       "0           0  https://br.investing.com/news/stock-market-new...   \n",
       "1           1  https://br.investing.com/news/politics/janja-e...   \n",
       "2           2  https://br.investing.com/news/stock-market-new...   \n",
       "3           3  https://br.investing.com/news/economy/fortuna-...   \n",
       "4           4  https://br.investing.com/news/stock-market-new...   \n",
       "\n",
       "                                              titulo        data   hora  \\\n",
       "0  WhatsApp lança recurso \"Flows\" para compras e ...  20.09.2023  15:35   \n",
       "1  Janja e ministras participam de encontro de mu...  18.09.2023  18:04   \n",
       "2  À espera de Copom e Fed, Ibovespa inicia seman...  18.09.2023  14:44   \n",
       "3  Fortuna de bilionários brasileiros equivale a ...  15.09.2023  14:10   \n",
       "4  Ibovespa avança com exterior ajudando Vale e P...  14.09.2023  11:49   \n",
       "\n",
       "                                               texto  sent_proc_cru  \\\n",
       "0  por patricia vilas boas são paulo (reuters) - ...         0.9127   \n",
       "1  a primeira-dama janja lula da silva participou...         0.3802   \n",
       "2  o ibovespa perdeu força e não conseguiu susten...        -0.9022   \n",
       "3  o patrimônio dos 280 bilionários brasileiros l...         0.1531   \n",
       "4  por paula arend laier são paulo (reuters) - o ...        -0.0258   \n",
       "\n",
       "                                              proc_1  \\\n",
       "0  [por, patric, vila, bom, ser, paul, (, reut, )...   \n",
       "1  [o, primeira-dam, janj, lul, da, silvar, parti...   \n",
       "2  [o, ibovesp, perder, forçar, e, não, conseguir...   \n",
       "3  [o, patrimôni, do, 280, bilionário, brasileiro...   \n",
       "4  [por, paul, arend, lai, ser, paul, (, reut, ),...   \n",
       "\n",
       "                                              proc_2  \\\n",
       "0  [patric, vila, paul, (, reut, ), -, whatsapp, ...   \n",
       "1  [primeira-dam, janj, lul, silvar, participar, ...   \n",
       "2  [ibovesp, perder, forçar, conseguir, sustent, ...   \n",
       "3  [patrimôni, 280, bilionário, brasileiro, lista...   \n",
       "4  [paul, arend, lai, paul, (, reut, ), -, iboves...   \n",
       "\n",
       "                                              proc_3  sent_proc_3  \\\n",
       "0  [patric, vila, paul, reut, whatsapp, anunciar,...      -0.7579   \n",
       "1  [primeiradam, janj, lul, silvar, participar, e...       0.5719   \n",
       "2  [ibovesp, perder, forar, conseguir, sustent, l...      -0.6908   \n",
       "3  [patrimni, 280, bilionrio, brasileiro, listado...      -0.5106   \n",
       "4  [paul, arend, lai, paul, reut, ibovesp, avanar...      -0.2500   \n",
       "\n",
       "  sent_cru_texto sent_proc_3_texto  \n",
       "0       positivo          negativo  \n",
       "1       positivo          positivo  \n",
       "2       negativo          negativo  \n",
       "3       positivo          negativo  \n",
       "4         neutro          negativo  "
      ]
     },
     "execution_count": 42,
     "metadata": {},
     "output_type": "execute_result"
    }
   ],
   "source": [
    "pd.options.display.max_colwidth = 50\n",
    "\n",
    "dados['texto'] = dados['texto'].apply(combinar_paragrafos)\n",
    "dados['sent_proc_cru'] = dados['texto'].apply(analisar_sentimento)\n",
    "\n",
    "dados['proc_1'] = dados['texto'].apply(tokenizacao_lemmatizer)\n",
    "dados['proc_2'] = dados['proc_1'].apply(remove_stop_words)\n",
    "dados['proc_3'] = dados['proc_2'].apply(remove_pontuacao)\n",
    "dados['sent_proc_3'] = dados['proc_3'].apply(analisar_sentimento)\n",
    "\n",
    "dados['sent_cru_texto'] = dados['sent_proc_cru'].apply(retornar_sentimento)\n",
    "dados['sent_proc_3_texto'] = dados['sent_proc_3'].apply(retornar_sentimento)\n",
    "dados.head()"
   ]
  },
  {
   "cell_type": "code",
   "execution_count": 44,
   "metadata": {},
   "outputs": [],
   "source": [
    "def plotar_analise(df, coluna):\n",
    "    negativos = 0\n",
    "    neutros = 0\n",
    "    positivos = 0\n",
    "\n",
    "    for analise in df[coluna]:\n",
    "        if analise == 'positivo':\n",
    "            positivos += 1\n",
    "        elif analise == 'negativo':\n",
    "            negativos += 1\n",
    "        else:\n",
    "            neutros += 1\n",
    "\n",
    "    sentimentos = ['Negativo', 'Neutro', 'Positivo']\n",
    "    quantidades = [negativos, neutros, positivos]\n",
    "\n",
    "    for i, v in enumerate(quantidades):\n",
    "        plt.text(sentimentos[i], v, str(v), ha='center', va='bottom')\n",
    "\n",
    "    plt.bar(sentimentos, quantidades, color=['red', 'blue', 'green'])\n",
    "    plt.xlabel('Sentimento')\n",
    "    plt.ylabel('Quantidade')\n",
    "    plt.title('Distribuição de Sentimentos')\n",
    "    plt.show()"
   ]
  },
  {
   "cell_type": "code",
   "execution_count": 45,
   "metadata": {},
   "outputs": [
    {
     "data": {
      "image/png": "[encoded data removed]",
      "text/plain": [
       "<Figure size 640x480 with 1 Axes>"
      ]
     },
     "metadata": {},
     "output_type": "display_data"
    }
   ],
   "source": [
    "plotar_analise(dados, 'sent_cru_texto')"
   ]
  },
  {
   "cell_type": "code",
   "execution_count": 47,
   "metadata": {},
   "outputs": [
    {
     "data": {
      "image/png": "[encoded data removed]",
      "text/plain": [
       "<Figure size 640x480 with 1 Axes>"
      ]
     },
     "metadata": {},
     "output_type": "display_data"
    }
   ],
   "source": [
    "plotar_analise(dados, 'sent_proc_3_texto')"
   ]
  },
  {
   "cell_type": "code",
   "execution_count": 52,
   "metadata": {},
   "outputs": [
    {
     "name": "stdout",
     "output_type": "stream",
     "text": [
      "                                                                                                                                     url  \\\n",
      "0             https://br.investing.com/news/stock-market-news/whatsapp-lanca-recurso-flows-para-compras-e-servicos-no-aplicativo-1157852   \n",
      "1                             https://br.investing.com/news/politics/janja-e-ministras-participam-de-encontro-de-mulheres-na-onu-1157039   \n",
      "2                  https://br.investing.com/news/stock-market-news/-espera-de-copom-e-fed-ibovespa-inicia-semana-em-baixa-de-040-1157027   \n",
      "3    https://br.investing.com/news/economy/fortuna-de-bilionarios-brasileiros-equivale-a-1535-do-pib-veja-setores-mais-prosperos-1156388   \n",
      "4      https://br.investing.com/news/stock-market-news/ibovespa-avanca-com-exterior-ajudando-vale-e-petrobras-casas-bahia-desaba-1155798   \n",
      "..                                                                                                                                   ...   \n",
      "145     https://br.investing.com/news/stock-market-news/dados-do-varejo-e-taxacao-de-marketplaces-asiaticos-movem-acoes-do-setor-1102284   \n",
      "146         https://br.investing.com/news/economic-indicators/varejo-no-brasil-inicia-ano-com-alta-recorde-nas-vendas-de-janeiro-1102251   \n",
      "147              https://br.investing.com/news/economy/governo-anuncia-fim-da-isencao-para-encomendas-internacionais-de-ate-us50-1102164   \n",
      "148     https://br.investing.com/news/stock-market-news/em-maior-alta-desde-outubro-ibovespa-sobe-429-e-retoma-os-106-mil-pontos-1102086   \n",
      "149                   https://br.investing.com/news/stock-market-news/ibovespa-dispara-mais-de-4-impulsionado-por-alivio-no-ipca-1102052   \n",
      "\n",
      "    sent_proc_3_texto  \n",
      "0            negativo  \n",
      "1            positivo  \n",
      "2            negativo  \n",
      "3            negativo  \n",
      "4            negativo  \n",
      "..                ...  \n",
      "145          positivo  \n",
      "146          negativo  \n",
      "147          negativo  \n",
      "148          positivo  \n",
      "149          positivo  \n",
      "\n",
      "[150 rows x 2 columns]\n"
     ]
    }
   ],
   "source": [
    "pd.options.display.max_colwidth = 150\n",
    "\n",
    "print(dados[['url', 'sent_proc_3_texto']])"
   ]
  }
 ],
 "metadata": {
  "kernelspec": {
   "display_name": "Python 3",
   "language": "python",
   "name": "python3"
  },
  "language_info": {
   "codemirror_mode": {
    "name": "ipython",
    "version": 3
   },
   "file_extension": ".py",
   "mimetype": "text/x-python",
   "name": "python",
   "nbconvert_exporter": "python",
   "pygments_lexer": "ipython3",
   "version": "3.10.12"
  },
  "orig_nbformat": 4
 },
 "nbformat": 4,
 "nbformat_minor": 2
}
