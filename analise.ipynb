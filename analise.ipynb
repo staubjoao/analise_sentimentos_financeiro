{
 "cells": [
  {
   "cell_type": "code",
   "execution_count": 2,
   "metadata": {},
   "outputs": [
    {
     "name": "stderr",
     "output_type": "stream",
     "text": [
      "[nltk_data] Downloading package vader_lexicon to\n",
      "[nltk_data]     /home/ynx/nltk_data...\n",
      "[nltk_data]   Package vader_lexicon is already up-to-date!\n",
      "[nltk_data] Downloading package rslp to /home/ynx/nltk_data...\n",
      "[nltk_data]   Package rslp is already up-to-date!\n",
      "[nltk_data] Downloading package wordnet to /home/ynx/nltk_data...\n",
      "[nltk_data]   Package wordnet is already up-to-date!\n"
     ]
    },
    {
     "data": {
      "text/plain": [
       "True"
      ]
     },
     "execution_count": 2,
     "metadata": {},
     "output_type": "execute_result"
    }
   ],
   "source": [
    "import nltk\n",
    "import pandas as pd\n",
    "from nltk.stem import WordNetLemmatizer\n",
    "from leia import SentimentIntensityAnalyzer\n",
    "from nltk import tokenize\n",
    "from sklearn.feature_extraction.text import CountVectorizer\n",
    "import matplotlib.pyplot as plt\n",
    "import seaborn as sns\n",
    "import spacy.lang.pt\n",
    "from unidecode import unidecode\n",
    "from string import punctuation\n",
    "\n",
    "nltk.download('vader_lexicon')\n",
    "nltk.download('rslp')\n",
    "nltk.download('wordnet')"
   ]
  },
  {
   "cell_type": "code",
   "execution_count": 3,
   "metadata": {},
   "outputs": [],
   "source": [
    "dados1 = pd.read_csv(\"./PETR4.csv\")\n",
    "dados2 = pd.read_csv(\"./PETR4.csv\")"
   ]
  },
  {
   "cell_type": "code",
   "execution_count": 4,
   "metadata": {},
   "outputs": [],
   "source": [
    "analisador = SentimentIntensityAnalyzer()\n",
    "\n",
    "def combinar_paragrafos(texto_lista):\n",
    "    texto = ' '.join(texto_lista.strip(\"[]\").replace(\"'\", \"\").split(\", \"))\n",
    "    return texto\n",
    "\n",
    "def remover_maiusculas_e_pontuacao(texto):\n",
    "    texto = texto.lower()\n",
    "    texto = ''.join(char for char in texto if char not in punctuation)\n",
    "    return texto\n",
    "\n",
    "stopwords = spacy.lang.pt.stop_words.STOP_WORDS\n",
    "\n",
    "def tratamento_texto(texto):\n",
    "    texto_sem_acentos = unidecode(texto)\n",
    "    palavras = texto_sem_acentos.split(' ')\n",
    "    retorno = ''\n",
    "    for p in palavras:\n",
    "        if p not in stopwords:\n",
    "            retorno += f\"{p} \"\n",
    "    return retorno\n",
    "\n",
    "def analisar_sentimento(texto):\n",
    "    return analisador.polarity_scores(texto)"
   ]
  },
  {
   "cell_type": "code",
   "execution_count": 7,
   "metadata": {},
   "outputs": [
    {
     "data": {
      "text/plain": [
       "{'neg': 0.615, 'neu': 0.385, 'pos': 0.0, 'compound': -0.4939}"
      ]
     },
     "execution_count": 7,
     "metadata": {},
     "output_type": "execute_result"
    }
   ],
   "source": [
    "analisador.polarity_scores('Eu estou triste')"
   ]
  },
  {
   "cell_type": "code",
   "execution_count": 8,
   "metadata": {},
   "outputs": [],
   "source": [
    "dados1['texto'] = dados1['texto'].apply(combinar_paragrafos)\n",
    "dados1['sentimento'] = dados1['texto'].apply(analisar_sentimento)\n",
    "\n",
    "dados2['texto'] = dados2['texto'].apply(remover_maiusculas_e_pontuacao)\n",
    "dados2['sentimento'] = dados2['texto'].apply(analisar_sentimento)\n",
    "dados2['texto'] = dados2['texto'].apply(tratamento_texto)"
   ]
  },
  {
   "cell_type": "code",
   "execution_count": 9,
   "metadata": {},
   "outputs": [],
   "source": [
    "def plotar_analise(df):\n",
    "    negativos = 0\n",
    "    neutros = 0\n",
    "    positivos = 0\n",
    "\n",
    "    # Conte os sentimentos\n",
    "    for analise in df.sentimento:\n",
    "        if analise['compound'] >= 0.05:\n",
    "            positivos += 1\n",
    "        elif analise['compound'] <= -0.05:\n",
    "            negativos += 1\n",
    "        else:\n",
    "            neutros += 1\n",
    "\n",
    "    # Crie os rótulos e os valores para o gráfico de barras\n",
    "    sentimentos = ['Negativo', 'Neutro', 'Positivo']\n",
    "    quantidades = [negativos, neutros, positivos]\n",
    "\n",
    "    print(quantidades)\n",
    "\n",
    "    # Crie o gráfico de barras\n",
    "    plt.bar(sentimentos, quantidades, color=['red', 'blue', 'green'])\n",
    "    plt.xlabel('Sentimento')\n",
    "    plt.ylabel('Quantidade')\n",
    "    plt.title('Distribuição de Sentimentos')\n",
    "plt.show()"
   ]
  },
  {
   "cell_type": "code",
   "execution_count": 12,
   "metadata": {},
   "outputs": [
    {
     "name": "stdout",
     "output_type": "stream",
     "text": [
      "[17, 2, 31]\n"
     ]
    },
    {
     "data": {
      "text/html": [
       "<div>\n",
       "<style scoped>\n",
       "    .dataframe tbody tr th:only-of-type {\n",
       "        vertical-align: middle;\n",
       "    }\n",
       "\n",
       "    .dataframe tbody tr th {\n",
       "        vertical-align: top;\n",
       "    }\n",
       "\n",
       "    .dataframe thead th {\n",
       "        text-align: right;\n",
       "    }\n",
       "</style>\n",
       "<table border=\"1\" class=\"dataframe\">\n",
       "  <thead>\n",
       "    <tr style=\"text-align: right;\">\n",
       "      <th></th>\n",
       "      <th>Unnamed: 0</th>\n",
       "      <th>titulo</th>\n",
       "      <th>data</th>\n",
       "      <th>hora</th>\n",
       "      <th>texto</th>\n",
       "      <th>sentimento</th>\n",
       "    </tr>\n",
       "  </thead>\n",
       "  <tbody>\n",
       "    <tr>\n",
       "      <th>0</th>\n",
       "      <td>0</td>\n",
       "      <td>Investidores estrangeiros querem entender marc...</td>\n",
       "      <td>19.09.2023</td>\n",
       "      <td>15:34</td>\n",
       "      <td>O ministro da Fazenda Fernando Haddad disse ne...</td>\n",
       "      <td>{'neg': 0.054, 'neu': 0.825, 'pos': 0.121, 'co...</td>\n",
       "    </tr>\n",
       "    <tr>\n",
       "      <th>1</th>\n",
       "      <td>1</td>\n",
       "      <td>Petrobras contrata sonda de perfuração da Fore...</td>\n",
       "      <td>19.09.2023</td>\n",
       "      <td>14:37</td>\n",
       "      <td>RIO DE JANEIRO (Reuters) - A Petrobras (BVMF:P...</td>\n",
       "      <td>{'neg': 0.019, 'neu': 0.895, 'pos': 0.086, 'co...</td>\n",
       "    </tr>\n",
       "    <tr>\n",
       "      <th>2</th>\n",
       "      <td>2</td>\n",
       "      <td>Programa da Petrobras de crédito a fornecedore...</td>\n",
       "      <td>19.09.2023</td>\n",
       "      <td>12:35</td>\n",
       "      <td>Por Marta Nogueira RIO DE JANEIRO (Reuters) - ...</td>\n",
       "      <td>{'neg': 0.039, 'neu': 0.886, 'pos': 0.074, 'co...</td>\n",
       "    </tr>\n",
       "    <tr>\n",
       "      <th>3</th>\n",
       "      <td>3</td>\n",
       "      <td>Ibovespa tem variações modestas em clima de ex...</td>\n",
       "      <td>19.09.2023</td>\n",
       "      <td>11:10</td>\n",
       "      <td>Por Paula Arend Laier SÃO PAULO (Reuters) - O ...</td>\n",
       "      <td>{'neg': 0.062, 'neu': 0.907, 'pos': 0.031, 'co...</td>\n",
       "    </tr>\n",
       "    <tr>\n",
       "      <th>4</th>\n",
       "      <td>4</td>\n",
       "      <td>Ibovespa tem instabildiade antes de Fed e Copo...</td>\n",
       "      <td>19.09.2023</td>\n",
       "      <td>08:28</td>\n",
       "      <td>A alta do petróleo no exterior e o aumento aci...</td>\n",
       "      <td>{'neg': 0.058, 'neu': 0.898, 'pos': 0.044, 'co...</td>\n",
       "    </tr>\n",
       "  </tbody>\n",
       "</table>\n",
       "</div>"
      ],
      "text/plain": [
       "   Unnamed: 0                                             titulo        data  \\\n",
       "0           0  Investidores estrangeiros querem entender marc...  19.09.2023   \n",
       "1           1  Petrobras contrata sonda de perfuração da Fore...  19.09.2023   \n",
       "2           2  Programa da Petrobras de crédito a fornecedore...  19.09.2023   \n",
       "3           3  Ibovespa tem variações modestas em clima de ex...  19.09.2023   \n",
       "4           4  Ibovespa tem instabildiade antes de Fed e Copo...  19.09.2023   \n",
       "\n",
       "    hora                                              texto  \\\n",
       "0  15:34  O ministro da Fazenda Fernando Haddad disse ne...   \n",
       "1  14:37  RIO DE JANEIRO (Reuters) - A Petrobras (BVMF:P...   \n",
       "2  12:35  Por Marta Nogueira RIO DE JANEIRO (Reuters) - ...   \n",
       "3  11:10  Por Paula Arend Laier SÃO PAULO (Reuters) - O ...   \n",
       "4  08:28  A alta do petróleo no exterior e o aumento aci...   \n",
       "\n",
       "                                          sentimento  \n",
       "0  {'neg': 0.054, 'neu': 0.825, 'pos': 0.121, 'co...  \n",
       "1  {'neg': 0.019, 'neu': 0.895, 'pos': 0.086, 'co...  \n",
       "2  {'neg': 0.039, 'neu': 0.886, 'pos': 0.074, 'co...  \n",
       "3  {'neg': 0.062, 'neu': 0.907, 'pos': 0.031, 'co...  \n",
       "4  {'neg': 0.058, 'neu': 0.898, 'pos': 0.044, 'co...  "
      ]
     },
     "execution_count": 12,
     "metadata": {},
     "output_type": "execute_result"
    },
    {
     "data": {
      "image/png": "[encoded data removed]",
      "text/plain": [
       "<Figure size 640x480 with 1 Axes>"
      ]
     },
     "metadata": {},
     "output_type": "display_data"
    }
   ],
   "source": [
    "plotar_analise(dados1)\n",
    "dados1.head()"
   ]
  },
  {
   "cell_type": "code",
   "execution_count": 13,
   "metadata": {},
   "outputs": [
    {
     "name": "stdout",
     "output_type": "stream",
     "text": [
      "[17, 1, 32]\n"
     ]
    },
    {
     "data": {
      "text/html": [
       "<div>\n",
       "<style scoped>\n",
       "    .dataframe tbody tr th:only-of-type {\n",
       "        vertical-align: middle;\n",
       "    }\n",
       "\n",
       "    .dataframe tbody tr th {\n",
       "        vertical-align: top;\n",
       "    }\n",
       "\n",
       "    .dataframe thead th {\n",
       "        text-align: right;\n",
       "    }\n",
       "</style>\n",
       "<table border=\"1\" class=\"dataframe\">\n",
       "  <thead>\n",
       "    <tr style=\"text-align: right;\">\n",
       "      <th></th>\n",
       "      <th>Unnamed: 0</th>\n",
       "      <th>titulo</th>\n",
       "      <th>data</th>\n",
       "      <th>hora</th>\n",
       "      <th>texto</th>\n",
       "      <th>sentimento</th>\n",
       "    </tr>\n",
       "  </thead>\n",
       "  <tbody>\n",
       "    <tr>\n",
       "      <th>0</th>\n",
       "      <td>0</td>\n",
       "      <td>Investidores estrangeiros querem entender marc...</td>\n",
       "      <td>19.09.2023</td>\n",
       "      <td>15:34</td>\n",
       "      <td>ministro fazenda fernando haddad disse 3a feir...</td>\n",
       "      <td>{'neg': 0.054, 'neu': 0.818, 'pos': 0.128, 'co...</td>\n",
       "    </tr>\n",
       "    <tr>\n",
       "      <th>1</th>\n",
       "      <td>1</td>\n",
       "      <td>Petrobras contrata sonda de perfuração da Fore...</td>\n",
       "      <td>19.09.2023</td>\n",
       "      <td>14:37</td>\n",
       "      <td>rio janeiro reuters  petrobras bvmfpetr4 assin...</td>\n",
       "      <td>{'neg': 0.019, 'neu': 0.895, 'pos': 0.086, 'co...</td>\n",
       "    </tr>\n",
       "    <tr>\n",
       "      <th>2</th>\n",
       "      <td>2</td>\n",
       "      <td>Programa da Petrobras de crédito a fornecedore...</td>\n",
       "      <td>19.09.2023</td>\n",
       "      <td>12:35</td>\n",
       "      <td>marta nogueira rio janeiro reuters  programa p...</td>\n",
       "      <td>{'neg': 0.04, 'neu': 0.885, 'pos': 0.075, 'com...</td>\n",
       "    </tr>\n",
       "    <tr>\n",
       "      <th>3</th>\n",
       "      <td>3</td>\n",
       "      <td>Ibovespa tem variações modestas em clima de ex...</td>\n",
       "      <td>19.09.2023</td>\n",
       "      <td>11:10</td>\n",
       "      <td>paula arend laier sao paulo reuters  ibovespa ...</td>\n",
       "      <td>{'neg': 0.062, 'neu': 0.907, 'pos': 0.031, 'co...</td>\n",
       "    </tr>\n",
       "    <tr>\n",
       "      <th>4</th>\n",
       "      <td>4</td>\n",
       "      <td>Ibovespa tem instabildiade antes de Fed e Copo...</td>\n",
       "      <td>19.09.2023</td>\n",
       "      <td>08:28</td>\n",
       "      <td>alta petroleo exterior aumento acima esperado ...</td>\n",
       "      <td>{'neg': 0.061, 'neu': 0.895, 'pos': 0.045, 'co...</td>\n",
       "    </tr>\n",
       "  </tbody>\n",
       "</table>\n",
       "</div>"
      ],
      "text/plain": [
       "   Unnamed: 0                                             titulo        data  \\\n",
       "0           0  Investidores estrangeiros querem entender marc...  19.09.2023   \n",
       "1           1  Petrobras contrata sonda de perfuração da Fore...  19.09.2023   \n",
       "2           2  Programa da Petrobras de crédito a fornecedore...  19.09.2023   \n",
       "3           3  Ibovespa tem variações modestas em clima de ex...  19.09.2023   \n",
       "4           4  Ibovespa tem instabildiade antes de Fed e Copo...  19.09.2023   \n",
       "\n",
       "    hora                                              texto  \\\n",
       "0  15:34  ministro fazenda fernando haddad disse 3a feir...   \n",
       "1  14:37  rio janeiro reuters  petrobras bvmfpetr4 assin...   \n",
       "2  12:35  marta nogueira rio janeiro reuters  programa p...   \n",
       "3  11:10  paula arend laier sao paulo reuters  ibovespa ...   \n",
       "4  08:28  alta petroleo exterior aumento acima esperado ...   \n",
       "\n",
       "                                          sentimento  \n",
       "0  {'neg': 0.054, 'neu': 0.818, 'pos': 0.128, 'co...  \n",
       "1  {'neg': 0.019, 'neu': 0.895, 'pos': 0.086, 'co...  \n",
       "2  {'neg': 0.04, 'neu': 0.885, 'pos': 0.075, 'com...  \n",
       "3  {'neg': 0.062, 'neu': 0.907, 'pos': 0.031, 'co...  \n",
       "4  {'neg': 0.061, 'neu': 0.895, 'pos': 0.045, 'co...  "
      ]
     },
     "execution_count": 13,
     "metadata": {},
     "output_type": "execute_result"
    },
    {
     "data": {
      "image/png": "[encoded data removed]",
      "text/plain": [
       "<Figure size 640x480 with 1 Axes>"
      ]
     },
     "metadata": {},
     "output_type": "display_data"
    }
   ],
   "source": [
    "plotar_analise(dados2)\n",
    "dados2.head()"
   ]
  },
  {
   "cell_type": "code",
   "execution_count": 80,
   "metadata": {},
   "outputs": [
    {
     "data": {
      "text/html": [
       "<div>\n",
       "<style scoped>\n",
       "    .dataframe tbody tr th:only-of-type {\n",
       "        vertical-align: middle;\n",
       "    }\n",
       "\n",
       "    .dataframe tbody tr th {\n",
       "        vertical-align: top;\n",
       "    }\n",
       "\n",
       "    .dataframe thead th {\n",
       "        text-align: right;\n",
       "    }\n",
       "</style>\n",
       "<table border=\"1\" class=\"dataframe\">\n",
       "  <thead>\n",
       "    <tr style=\"text-align: right;\">\n",
       "      <th></th>\n",
       "      <th>Unnamed: 0</th>\n",
       "      <th>titulo</th>\n",
       "      <th>data</th>\n",
       "      <th>hora</th>\n",
       "      <th>texto</th>\n",
       "      <th>sentimento</th>\n",
       "    </tr>\n",
       "  </thead>\n",
       "  <tbody>\n",
       "    <tr>\n",
       "      <th>0</th>\n",
       "      <td>0</td>\n",
       "      <td>Investidores estrangeiros querem entender marc...</td>\n",
       "      <td>19.09.2023</td>\n",
       "      <td>15:34</td>\n",
       "      <td>ministro fazenda fernando haddad disse 3a feir...</td>\n",
       "      <td>{'neg': 0.054, 'neu': 0.818, 'pos': 0.128, 'co...</td>\n",
       "    </tr>\n",
       "    <tr>\n",
       "      <th>1</th>\n",
       "      <td>1</td>\n",
       "      <td>Petrobras contrata sonda de perfuração da Fore...</td>\n",
       "      <td>19.09.2023</td>\n",
       "      <td>14:37</td>\n",
       "      <td>rio janeiro reuters  petrobras bvmfpetr4 assin...</td>\n",
       "      <td>{'neg': 0.019, 'neu': 0.895, 'pos': 0.086, 'co...</td>\n",
       "    </tr>\n",
       "    <tr>\n",
       "      <th>2</th>\n",
       "      <td>2</td>\n",
       "      <td>Programa da Petrobras de crédito a fornecedore...</td>\n",
       "      <td>19.09.2023</td>\n",
       "      <td>12:35</td>\n",
       "      <td>marta nogueira rio janeiro reuters  programa p...</td>\n",
       "      <td>{'neg': 0.04, 'neu': 0.885, 'pos': 0.075, 'com...</td>\n",
       "    </tr>\n",
       "    <tr>\n",
       "      <th>3</th>\n",
       "      <td>3</td>\n",
       "      <td>Ibovespa tem variações modestas em clima de ex...</td>\n",
       "      <td>19.09.2023</td>\n",
       "      <td>11:10</td>\n",
       "      <td>paula arend laier sao paulo reuters  ibovespa ...</td>\n",
       "      <td>{'neg': 0.062, 'neu': 0.907, 'pos': 0.031, 'co...</td>\n",
       "    </tr>\n",
       "    <tr>\n",
       "      <th>4</th>\n",
       "      <td>4</td>\n",
       "      <td>Ibovespa tem instabildiade antes de Fed e Copo...</td>\n",
       "      <td>19.09.2023</td>\n",
       "      <td>08:28</td>\n",
       "      <td>alta petroleo exterior aumento acima esperado ...</td>\n",
       "      <td>{'neg': 0.061, 'neu': 0.895, 'pos': 0.045, 'co...</td>\n",
       "    </tr>\n",
       "  </tbody>\n",
       "</table>\n",
       "</div>"
      ],
      "text/plain": [
       "   Unnamed: 0                                             titulo        data   \n",
       "0           0  Investidores estrangeiros querem entender marc...  19.09.2023  \\\n",
       "1           1  Petrobras contrata sonda de perfuração da Fore...  19.09.2023   \n",
       "2           2  Programa da Petrobras de crédito a fornecedore...  19.09.2023   \n",
       "3           3  Ibovespa tem variações modestas em clima de ex...  19.09.2023   \n",
       "4           4  Ibovespa tem instabildiade antes de Fed e Copo...  19.09.2023   \n",
       "\n",
       "    hora                                              texto   \n",
       "0  15:34  ministro fazenda fernando haddad disse 3a feir...  \\\n",
       "1  14:37  rio janeiro reuters  petrobras bvmfpetr4 assin...   \n",
       "2  12:35  marta nogueira rio janeiro reuters  programa p...   \n",
       "3  11:10  paula arend laier sao paulo reuters  ibovespa ...   \n",
       "4  08:28  alta petroleo exterior aumento acima esperado ...   \n",
       "\n",
       "                                          sentimento  \n",
       "0  {'neg': 0.054, 'neu': 0.818, 'pos': 0.128, 'co...  \n",
       "1  {'neg': 0.019, 'neu': 0.895, 'pos': 0.086, 'co...  \n",
       "2  {'neg': 0.04, 'neu': 0.885, 'pos': 0.075, 'com...  \n",
       "3  {'neg': 0.062, 'neu': 0.907, 'pos': 0.031, 'co...  \n",
       "4  {'neg': 0.061, 'neu': 0.895, 'pos': 0.045, 'co...  "
      ]
     },
     "execution_count": 80,
     "metadata": {},
     "output_type": "execute_result"
    }
   ],
   "source": []
  },
  {
   "cell_type": "code",
   "execution_count": 12,
   "metadata": {},
   "outputs": [],
   "source": [
    "token_espaco = tokenize.WhitespaceTokenizer()\n",
    "frase_processada = list()\n",
    "for noticia in dados.texto:\n",
    "    nova_frase = list()\n",
    "    palavras_texto = token_espaco.tokenize(noticia)\n",
    "    stemmer = nltk.RSLPStemmer()\n",
    "    for palavra in palavras_texto:\n",
    "        nova_frase.append(stemmer.stem(palavra))\n",
    "        frase_processada.append(' '.join(nova_frase))\n",
    "\n",
    "    wordnet_lemmatizer = WordNetLemmatizer()\n",
    "\n",
    "    for palavra in palavras_texto:\n",
    "        nova_frase.append(wordnet_lemmatizer.lemmatize(palavra))\n",
    "        frase_processada.append(' '.join(nova_frase))"
   ]
  },
  {
   "cell_type": "code",
   "execution_count": 16,
   "metadata": {},
   "outputs": [],
   "source": [
    "def filtrar_palavras(texto, idioma, palavras_relevantes):\n",
    "    if idioma == 'pt' or idioma == 'pt_BR':\n",
    "        palavras = texto.split()\n",
    "        palavras_filtradas = [word for word in palavras if word in palavras_relevantes]\n",
    "        return ' '.join(palavras_filtradas)\n",
    "    else:\n",
    "        return ''"
   ]
  },
  {
   "cell_type": "code",
   "execution_count": 23,
   "metadata": {},
   "outputs": [],
   "source": [
    "def pareto(texto, coluna_texto, quantidade):\n",
    "    todas_palavras=' '.join([texto for texto in texto[coluna_texto]])\n",
    "    frequencia = nltk.FreqDist(token_espaco.tokenize(todas_palavras))\n",
    "    df_frequencia = pd.DataFrame({'Palavra':list(frequencia.keys()),\n",
    "    \"Frequencia\":list(frequencia.values())})\n",
    "    plt.figure(figsize = (12,8))\n",
    "    ax=sns.barplot(data = df_frequencia.nlargest(columns=\"Frequencia\",  n=20), x=\"Palavra\", y=\"Frequencia\", color=\"gray\")\n",
    "    ax.set(ylabel=\"Contagem\")\n",
    "    plt.show()"
   ]
  },
  {
   "cell_type": "code",
   "execution_count": 24,
   "metadata": {},
   "outputs": [
    {
     "data": {
      "image/png": "[encoded data removed]",
      "text/plain": [
       "<Figure size 1200x800 with 1 Axes>"
      ]
     },
     "metadata": {},
     "output_type": "display_data"
    }
   ],
   "source": [
    "pareto(dados,\"texto\",10)"
   ]
  },
  {
   "cell_type": "code",
   "execution_count": 41,
   "metadata": {},
   "outputs": [],
   "source": [
    "token_pontuacao = tokenize.WordPunctTokenizer()\n",
    "pontuacao=list()\n",
    "for ponto in punctuation:\n",
    "    stopwords.add(ponto)\n",
    "\n",
    "frase_processada=list()\n",
    "for noticia in dados.texto:\n",
    "    nova_frase = list()\n",
    "    palavras_texto = token_pontuacao.tokenize(noticia)\n",
    "    for palavra in palavras_texto:\n",
    "        if palavra not in stopwords:\n",
    "            nova_frase.append(palavra)\n",
    "            frase_processada.append(\" \".join(nova_frase))\n",
    "            print(frase_processada)\n",
    "    "
   ]
  }
 ],
 "metadata": {
  "kernelspec": {
   "display_name": "Python 3",
   "language": "python",
   "name": "python3"
  },
  "language_info": {
   "codemirror_mode": {
    "name": "ipython",
    "version": 3
   },
   "file_extension": ".py",
   "mimetype": "text/x-python",
   "name": "python",
   "nbconvert_exporter": "python",
   "pygments_lexer": "ipython3",
   "version": "3.10.12"
  },
  "orig_nbformat": 4
 },
 "nbformat": 4,
 "nbformat_minor": 2
}
