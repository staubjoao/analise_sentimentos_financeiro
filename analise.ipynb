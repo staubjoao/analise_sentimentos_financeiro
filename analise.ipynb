{
 "cells": [
  {
   "cell_type": "code",
   "execution_count": 62,
   "metadata": {},
   "outputs": [
    {
     "name": "stderr",
     "output_type": "stream",
     "text": [
      "[nltk_data] Downloading package vader_lexicon to\n",
      "[nltk_data]     /home/ynx/nltk_data...\n",
      "[nltk_data]   Package vader_lexicon is already up-to-date!\n",
      "[nltk_data] Downloading package rslp to /home/ynx/nltk_data...\n",
      "[nltk_data]   Package rslp is already up-to-date!\n",
      "[nltk_data] Downloading package wordnet to /home/ynx/nltk_data...\n",
      "[nltk_data]   Package wordnet is already up-to-date!\n"
     ]
    },
    {
     "data": {
      "text/plain": [
       "True"
      ]
     },
     "execution_count": 62,
     "metadata": {},
     "output_type": "execute_result"
    }
   ],
   "source": [
    "import nltk\n",
    "import pandas as pd\n",
    "from nltk.stem import WordNetLemmatizer\n",
    "from nltk.sentiment.vader import SentimentIntensityAnalyzer\n",
    "from nltk import tokenize\n",
    "from sklearn.feature_extraction.text import CountVectorizer\n",
    "import matplotlib.pyplot as plt\n",
    "import seaborn as sns\n",
    "import spacy.lang.pt\n",
    "from unidecode import unidecode\n",
    "from string import punctuation\n",
    "\n",
    "nltk.download('vader_lexicon')\n",
    "nltk.download('rslp')\n",
    "nltk.download('wordnet')"
   ]
  },
  {
   "cell_type": "code",
   "execution_count": 47,
   "metadata": {},
   "outputs": [],
   "source": [
    "dados = pd.read_csv(\"./AMER3.csv\")"
   ]
  },
  {
   "cell_type": "code",
   "execution_count": 48,
   "metadata": {},
   "outputs": [],
   "source": [
    "def combinar_paragrafos(texto_lista):\n",
    "    texto = ' '.join(texto_lista.strip(\"[]\").replace(\"'\", \"\").split(\", \"))\n",
    "    return texto\n",
    "\n",
    "dados['texto'] = dados['texto'].apply(combinar_paragrafos)"
   ]
  },
  {
   "cell_type": "code",
   "execution_count": 4,
   "metadata": {},
   "outputs": [],
   "source": [
    "analisador = SentimentIntensityAnalyzer()"
   ]
  },
  {
   "cell_type": "code",
   "execution_count": 5,
   "metadata": {},
   "outputs": [],
   "source": [
    "def analisar_sentimento(texto):\n",
    "    return analisador.polarity_scores(texto)"
   ]
  },
  {
   "cell_type": "code",
   "execution_count": 6,
   "metadata": {},
   "outputs": [],
   "source": [
    "dados['sentimento'] = dados['texto'].apply(analisar_sentimento)"
   ]
  },
  {
   "cell_type": "code",
   "execution_count": 7,
   "metadata": {},
   "outputs": [
    {
     "name": "stdout",
     "output_type": "stream",
     "text": [
      "[45, 4, 1]\n"
     ]
    },
    {
     "data": {
      "image/png": "[encoded data removed]",
      "text/plain": [
       "<Figure size 640x480 with 1 Axes>"
      ]
     },
     "metadata": {},
     "output_type": "display_data"
    }
   ],
   "source": [
    "negativos = 0\n",
    "neutros = 0\n",
    "positivos = 0\n",
    "\n",
    "# Conte os sentimentos\n",
    "for analise in dados.sentimento:\n",
    "    if analise['compound'] >= 0.05:\n",
    "        positivos += 1\n",
    "    elif analise['compound'] <= -0.05:\n",
    "        negativos += 1\n",
    "    else:\n",
    "        neutros += 1\n",
    "\n",
    "# Crie os rótulos e os valores para o gráfico de barras\n",
    "sentimentos = ['Negativo', 'Neutro', 'Positivo']\n",
    "quantidades = [negativos, neutros, positivos]\n",
    "\n",
    "print(quantidades)\n",
    "\n",
    "# Crie o gráfico de barras\n",
    "plt.bar(sentimentos, quantidades, color=['red', 'gray', 'green'])\n",
    "plt.xlabel('Sentimento')\n",
    "plt.ylabel('Quantidade')\n",
    "plt.title('Distribuição de Sentimentos')\n",
    "plt.show()"
   ]
  },
  {
   "cell_type": "code",
   "execution_count": 50,
   "metadata": {},
   "outputs": [],
   "source": [
    "def remover_maiusculas_e_pontuacao(texto):\n",
    "    texto = texto.lower()\n",
    "    texto = ''.join(char for char in texto if char not in punctuation)\n",
    "\n",
    "    return texto\n",
    "\n",
    "dados['texto'] = dados['texto'].apply(remover_maiusculas_e_pontuacao)"
   ]
  },
  {
   "cell_type": "code",
   "execution_count": 51,
   "metadata": {},
   "outputs": [
    {
     "data": {
      "text/html": [
       "<div>\n",
       "<style scoped>\n",
       "    .dataframe tbody tr th:only-of-type {\n",
       "        vertical-align: middle;\n",
       "    }\n",
       "\n",
       "    .dataframe tbody tr th {\n",
       "        vertical-align: top;\n",
       "    }\n",
       "\n",
       "    .dataframe thead th {\n",
       "        text-align: right;\n",
       "    }\n",
       "</style>\n",
       "<table border=\"1\" class=\"dataframe\">\n",
       "  <thead>\n",
       "    <tr style=\"text-align: right;\">\n",
       "      <th></th>\n",
       "      <th>Unnamed: 0</th>\n",
       "      <th>titulo</th>\n",
       "      <th>data</th>\n",
       "      <th>hora</th>\n",
       "      <th>texto</th>\n",
       "    </tr>\n",
       "  </thead>\n",
       "  <tbody>\n",
       "    <tr>\n",
       "      <th>0</th>\n",
       "      <td>0</td>\n",
       "      <td>Americanas rebate acusações do Bradesco em nov...</td>\n",
       "      <td>18.09.2023</td>\n",
       "      <td>22:21</td>\n",
       "      <td>a americanas bvmfamer3 protocolou nesta 2ª fei...</td>\n",
       "    </tr>\n",
       "    <tr>\n",
       "      <th>1</th>\n",
       "      <td>1</td>\n",
       "      <td>CPIs do Congresso Nacional entram em reta fina...</td>\n",
       "      <td>18.09.2023</td>\n",
       "      <td>07:59</td>\n",
       "      <td>as cpis comissões parlamentares de inquérito e...</td>\n",
       "    </tr>\n",
       "    <tr>\n",
       "      <th>2</th>\n",
       "      <td>2</td>\n",
       "      <td>Ações: Braskem, IRB e Azul lideram altas do Ib...</td>\n",
       "      <td>18.09.2023</td>\n",
       "      <td>10:30</td>\n",
       "      <td>investingcom — o ibovespa subia 018 às 10h29 d...</td>\n",
       "    </tr>\n",
       "    <tr>\n",
       "      <th>3</th>\n",
       "      <td>3</td>\n",
       "      <td>Abertura de mercado: o que esperar do Ibovespa...</td>\n",
       "      <td>14.09.2023</td>\n",
       "      <td>09:21</td>\n",
       "      <td>investingcom – os mercados aguardam novos dado...</td>\n",
       "    </tr>\n",
       "    <tr>\n",
       "      <th>4</th>\n",
       "      <td>4</td>\n",
       "      <td>Bradesco afirma ter total interesse no sucesso...</td>\n",
       "      <td>13.09.2023</td>\n",
       "      <td>16:23</td>\n",
       "      <td>o bradesco bvmfbbdc4 informou nesta quartafeir...</td>\n",
       "    </tr>\n",
       "  </tbody>\n",
       "</table>\n",
       "</div>"
      ],
      "text/plain": [
       "   Unnamed: 0                                             titulo        data  \\\n",
       "0           0  Americanas rebate acusações do Bradesco em nov...  18.09.2023   \n",
       "1           1  CPIs do Congresso Nacional entram em reta fina...  18.09.2023   \n",
       "2           2  Ações: Braskem, IRB e Azul lideram altas do Ib...  18.09.2023   \n",
       "3           3  Abertura de mercado: o que esperar do Ibovespa...  14.09.2023   \n",
       "4           4  Bradesco afirma ter total interesse no sucesso...  13.09.2023   \n",
       "\n",
       "    hora                                              texto  \n",
       "0  22:21  a americanas bvmfamer3 protocolou nesta 2ª fei...  \n",
       "1  07:59  as cpis comissões parlamentares de inquérito e...  \n",
       "2  10:30  investingcom — o ibovespa subia 018 às 10h29 d...  \n",
       "3  09:21  investingcom – os mercados aguardam novos dado...  \n",
       "4  16:23  o bradesco bvmfbbdc4 informou nesta quartafeir...  "
      ]
     },
     "execution_count": 51,
     "metadata": {},
     "output_type": "execute_result"
    }
   ],
   "source": [
    "dados.head()"
   ]
  },
  {
   "cell_type": "code",
   "execution_count": 12,
   "metadata": {},
   "outputs": [],
   "source": [
    "token_espaco = tokenize.WhitespaceTokenizer()\n",
    "frase_processada = list()\n",
    "for noticia in dados.texto:\n",
    "    nova_frase = list()\n",
    "    palavras_texto = token_espaco.tokenize(noticia)\n",
    "    stemmer = nltk.RSLPStemmer()\n",
    "    for palavra in palavras_texto:\n",
    "        nova_frase.append(stemmer.stem(palavra))\n",
    "        frase_processada.append(' '.join(nova_frase))\n",
    "\n",
    "    wordnet_lemmatizer = WordNetLemmatizer()\n",
    "\n",
    "    for palavra in palavras_texto:\n",
    "        nova_frase.append(wordnet_lemmatizer.lemmatize(palavra))\n",
    "        frase_processada.append(' '.join(nova_frase))\n"
   ]
  },
  {
   "cell_type": "code",
   "execution_count": 39,
   "metadata": {},
   "outputs": [],
   "source": [
    "stopwords = spacy.lang.pt.stop_words.STOP_WORDS"
   ]
  },
  {
   "cell_type": "code",
   "execution_count": 64,
   "metadata": {},
   "outputs": [],
   "source": [
    "def tratamento(texto):\n",
    "    texto_sem_acentos = unidecode(texto)\n",
    "    palavras = texto_sem_acentos.split(' ')\n",
    "    retorno = ''\n",
    "    for p in palavras:\n",
    "        if p not in stopwords:\n",
    "            retorno += f\"{p} \"\n",
    "    return retorno\n",
    "\n",
    "dados['texto'] = dados['texto'].apply(tratamento)"
   ]
  },
  {
   "cell_type": "code",
   "execution_count": 65,
   "metadata": {},
   "outputs": [
    {
     "data": {
      "text/html": [
       "<div>\n",
       "<style scoped>\n",
       "    .dataframe tbody tr th:only-of-type {\n",
       "        vertical-align: middle;\n",
       "    }\n",
       "\n",
       "    .dataframe tbody tr th {\n",
       "        vertical-align: top;\n",
       "    }\n",
       "\n",
       "    .dataframe thead th {\n",
       "        text-align: right;\n",
       "    }\n",
       "</style>\n",
       "<table border=\"1\" class=\"dataframe\">\n",
       "  <thead>\n",
       "    <tr style=\"text-align: right;\">\n",
       "      <th></th>\n",
       "      <th>Unnamed: 0</th>\n",
       "      <th>titulo</th>\n",
       "      <th>data</th>\n",
       "      <th>hora</th>\n",
       "      <th>texto</th>\n",
       "    </tr>\n",
       "  </thead>\n",
       "  <tbody>\n",
       "    <tr>\n",
       "      <th>0</th>\n",
       "      <td>0</td>\n",
       "      <td>Americanas rebate acusações do Bradesco em nov...</td>\n",
       "      <td>18.09.2023</td>\n",
       "      <td>22:21</td>\n",
       "      <td>americanas bvmfamer3 protocolou 2a feira 18set...</td>\n",
       "    </tr>\n",
       "    <tr>\n",
       "      <th>1</th>\n",
       "      <td>1</td>\n",
       "      <td>CPIs do Congresso Nacional entram em reta fina...</td>\n",
       "      <td>18.09.2023</td>\n",
       "      <td>07:59</td>\n",
       "      <td>cpis comissoes parlamentares inquerito curso c...</td>\n",
       "    </tr>\n",
       "    <tr>\n",
       "      <th>2</th>\n",
       "      <td>2</td>\n",
       "      <td>Ações: Braskem, IRB e Azul lideram altas do Ib...</td>\n",
       "      <td>18.09.2023</td>\n",
       "      <td>10:30</td>\n",
       "      <td>investingcom -- ibovespa subia 018 10h29 brasi...</td>\n",
       "    </tr>\n",
       "    <tr>\n",
       "      <th>3</th>\n",
       "      <td>3</td>\n",
       "      <td>Abertura de mercado: o que esperar do Ibovespa...</td>\n",
       "      <td>14.09.2023</td>\n",
       "      <td>09:21</td>\n",
       "      <td>investingcom - mercados aguardam dados inflaca...</td>\n",
       "    </tr>\n",
       "    <tr>\n",
       "      <th>4</th>\n",
       "      <td>4</td>\n",
       "      <td>Bradesco afirma ter total interesse no sucesso...</td>\n",
       "      <td>13.09.2023</td>\n",
       "      <td>16:23</td>\n",
       "      <td>bradesco bvmfbbdc4 informou quartafeira 13 tot...</td>\n",
       "    </tr>\n",
       "  </tbody>\n",
       "</table>\n",
       "</div>"
      ],
      "text/plain": [
       "   Unnamed: 0                                             titulo        data  \\\n",
       "0           0  Americanas rebate acusações do Bradesco em nov...  18.09.2023   \n",
       "1           1  CPIs do Congresso Nacional entram em reta fina...  18.09.2023   \n",
       "2           2  Ações: Braskem, IRB e Azul lideram altas do Ib...  18.09.2023   \n",
       "3           3  Abertura de mercado: o que esperar do Ibovespa...  14.09.2023   \n",
       "4           4  Bradesco afirma ter total interesse no sucesso...  13.09.2023   \n",
       "\n",
       "    hora                                              texto  \n",
       "0  22:21  americanas bvmfamer3 protocolou 2a feira 18set...  \n",
       "1  07:59  cpis comissoes parlamentares inquerito curso c...  \n",
       "2  10:30  investingcom -- ibovespa subia 018 10h29 brasi...  \n",
       "3  09:21  investingcom - mercados aguardam dados inflaca...  \n",
       "4  16:23  bradesco bvmfbbdc4 informou quartafeira 13 tot...  "
      ]
     },
     "execution_count": 65,
     "metadata": {},
     "output_type": "execute_result"
    }
   ],
   "source": [
    "dados.head()"
   ]
  },
  {
   "cell_type": "code",
   "execution_count": null,
   "metadata": {},
   "outputs": [],
   "source": [
    "def filtrar_palavras(texto, idioma, palavras_relevantes):\n",
    "    if idioma == 'pt' or idioma == 'pt_BR':\n",
    "        palavras = texto.split()\n",
    "        palavras_filtradas = [word for word in palavras if word in palavras_relevantes]\n",
    "        return ' '.join(palavras_filtradas)\n",
    "    else:\n",
    "        return ''"
   ]
  },
  {
   "cell_type": "code",
   "execution_count": 38,
   "metadata": {},
   "outputs": [],
   "source": [
    "def pareto(texto, coluna_texto, quantidade):\n",
    "    todas_palavras=' '.join([texto for texto in texto[coluna_texto]])\n",
    "    frequencia = nltk.FreqDist(token_espaco.tokenize(todas_palavras))\n",
    "    df_frequencia = pd.DataFrame({'Palavra':list(frequencia.keys()),\n",
    "    \"Frequencia\":list(frequencia.values())})\n",
    "    plt.figure(figsize = (12,8))\n",
    "    ax=sns.barplot(data = df_frequencia.nlargest(columns=\"Frequencia\",  n=20), x=\"Palavra\", y=\"Frequencia\", color=\"gray\")\n",
    "    ax.set(ylabel=\"Contagem\")\n",
    "    plt.show()"
   ]
  },
  {
   "cell_type": "code",
   "execution_count": 40,
   "metadata": {},
   "outputs": [
    {
     "name": "stderr",
     "output_type": "stream",
     "text": [
      "/home/ynx/.local/lib/python3.10/site-packages/seaborn/_oldcore.py:1498: FutureWarning: is_categorical_dtype is deprecated and will be removed in a future version. Use isinstance(dtype, CategoricalDtype) instead\n",
      "  if pd.api.types.is_categorical_dtype(vector):\n",
      "/home/ynx/.local/lib/python3.10/site-packages/seaborn/_oldcore.py:1498: FutureWarning: is_categorical_dtype is deprecated and will be removed in a future version. Use isinstance(dtype, CategoricalDtype) instead\n",
      "  if pd.api.types.is_categorical_dtype(vector):\n",
      "/home/ynx/.local/lib/python3.10/site-packages/seaborn/_oldcore.py:1498: FutureWarning: is_categorical_dtype is deprecated and will be removed in a future version. Use isinstance(dtype, CategoricalDtype) instead\n",
      "  if pd.api.types.is_categorical_dtype(vector):\n"
     ]
    },
    {
     "data": {
      "image/png": "[encoded data removed]",
      "text/plain": [
       "<Figure size 1200x800 with 1 Axes>"
      ]
     },
     "metadata": {},
     "output_type": "display_data"
    }
   ],
   "source": [
    "pareto(dados,\"texto\",10)"
   ]
  },
  {
   "cell_type": "code",
   "execution_count": 41,
   "metadata": {},
   "outputs": [],
   "source": [
    "token_pontuacao = tokenize.WordPunctTokenizer()\n",
    "pontuacao=list()\n",
    "for ponto in punctuation:\n",
    "    stopwords.add(ponto)\n",
    "\n",
    "frase_processada=list()\n",
    "for noticia in dados.texto:\n",
    "    nova_frase = list()\n",
    "    palavras_texto = token_pontuacao.tokenize(noticia)\n",
    "    for palavra in palavras_texto:\n",
    "        if palavra not in stopwords:\n",
    "            nova_frase.append(palavra)\n",
    "            frase_processada.append(\" \".join(nova_frase))\n",
    "            print(frase_processada)\n",
    "    "
   ]
  },
  {
   "cell_type": "code",
   "execution_count": 42,
   "metadata": {},
   "outputs": [
    {
     "data": {
      "text/html": [
       "<div>\n",
       "<style scoped>\n",
       "    .dataframe tbody tr th:only-of-type {\n",
       "        vertical-align: middle;\n",
       "    }\n",
       "\n",
       "    .dataframe tbody tr th {\n",
       "        vertical-align: top;\n",
       "    }\n",
       "\n",
       "    .dataframe thead th {\n",
       "        text-align: right;\n",
       "    }\n",
       "</style>\n",
       "<table border=\"1\" class=\"dataframe\">\n",
       "  <thead>\n",
       "    <tr style=\"text-align: right;\">\n",
       "      <th></th>\n",
       "      <th>titulo</th>\n",
       "      <th>data</th>\n",
       "      <th>hora</th>\n",
       "      <th>texto</th>\n",
       "    </tr>\n",
       "  </thead>\n",
       "  <tbody>\n",
       "    <tr>\n",
       "      <th>0</th>\n",
       "      <td>Janja e ministras participam de encontro de mu...</td>\n",
       "      <td>18.09.2023</td>\n",
       "      <td>18:04</td>\n",
       "      <td>A primeira-dama Janja Lula da Silva participou...</td>\n",
       "    </tr>\n",
       "    <tr>\n",
       "      <th>1</th>\n",
       "      <td>À espera de Copom e Fed, Ibovespa inicia seman...</td>\n",
       "      <td>18.09.2023</td>\n",
       "      <td>14:44</td>\n",
       "      <td>O Ibovespa perdeu força e não conseguiu susten...</td>\n",
       "    </tr>\n",
       "    <tr>\n",
       "      <th>2</th>\n",
       "      <td>Fortuna de bilionários brasileiros equivale a ...</td>\n",
       "      <td>15.09.2023</td>\n",
       "      <td>14:10</td>\n",
       "      <td>O patrimônio dos 280 bilionários brasileiros l...</td>\n",
       "    </tr>\n",
       "    <tr>\n",
       "      <th>3</th>\n",
       "      <td>Ibovespa avança com exterior ajudando Vale e P...</td>\n",
       "      <td>14.09.2023</td>\n",
       "      <td>11:49</td>\n",
       "      <td>Por Paula Arend Laier SÃO PAULO (Reuters) - O ...</td>\n",
       "    </tr>\n",
       "    <tr>\n",
       "      <th>4</th>\n",
       "      <td>Ações: Bradespar, CSN e Vale lideram altas do ...</td>\n",
       "      <td>14.09.2023</td>\n",
       "      <td>10:29</td>\n",
       "      <td>Investing.com — O Ibovespa subia 0,86% às 10h2...</td>\n",
       "    </tr>\n",
       "  </tbody>\n",
       "</table>\n",
       "</div>"
      ],
      "text/plain": [
       "                                              titulo        data   hora  \\\n",
       "0  Janja e ministras participam de encontro de mu...  18.09.2023  18:04   \n",
       "1  À espera de Copom e Fed, Ibovespa inicia seman...  18.09.2023  14:44   \n",
       "2  Fortuna de bilionários brasileiros equivale a ...  15.09.2023  14:10   \n",
       "3  Ibovespa avança com exterior ajudando Vale e P...  14.09.2023  11:49   \n",
       "4  Ações: Bradespar, CSN e Vale lideram altas do ...  14.09.2023  10:29   \n",
       "\n",
       "                                               texto  \n",
       "0  A primeira-dama Janja Lula da Silva participou...  \n",
       "1  O Ibovespa perdeu força e não conseguiu susten...  \n",
       "2  O patrimônio dos 280 bilionários brasileiros l...  \n",
       "3  Por Paula Arend Laier SÃO PAULO (Reuters) - O ...  \n",
       "4  Investing.com — O Ibovespa subia 0,86% às 10h2...  "
      ]
     },
     "execution_count": 42,
     "metadata": {},
     "output_type": "execute_result"
    }
   ],
   "source": [
    "dados.head()"
   ]
  }
 ],
 "metadata": {
  "kernelspec": {
   "display_name": "Python 3",
   "language": "python",
   "name": "python3"
  },
  "language_info": {
   "codemirror_mode": {
    "name": "ipython",
    "version": 3
   },
   "file_extension": ".py",
   "mimetype": "text/x-python",
   "name": "python",
   "nbconvert_exporter": "python",
   "pygments_lexer": "ipython3",
   "version": "3.10.12"
  },
  "orig_nbformat": 4
 },
 "nbformat": 4,
 "nbformat_minor": 2
}
